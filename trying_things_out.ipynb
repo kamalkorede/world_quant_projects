{
 "cells": [
  {
   "cell_type": "markdown",
   "metadata": {},
   "source": [
    "Experimenting with different things here!"
   ]
  },
  {
   "cell_type": "code",
   "execution_count": 114,
   "metadata": {},
   "outputs": [],
   "source": [
    "a = [1,2,3,4]\n",
    "b = ['a','b','c']"
   ]
  },
  {
   "cell_type": "code",
   "execution_count": 115,
   "metadata": {},
   "outputs": [
    {
     "name": "stdout",
     "output_type": "stream",
     "text": [
      "(1, 'a')\n",
      "(2, 'b')\n",
      "(3, 'c')\n"
     ]
    }
   ],
   "source": [
    "for x in zip(a,b):\n",
    "    print(x)"
   ]
  },
  {
   "cell_type": "code",
   "execution_count": 116,
   "metadata": {},
   "outputs": [
    {
     "name": "stdout",
     "output_type": "stream",
     "text": [
      "[5, 6, 6]\n"
     ]
    }
   ],
   "source": [
    "def myfunc(a):\n",
    "  return len(a)\n",
    "\n",
    "x = map(myfunc, ('apple', 'banana', 'cherry'))\n",
    "\n",
    "# print(x)\n",
    "#convert the map into a list, for readability:\n",
    "print(list(x))"
   ]
  },
  {
   "cell_type": "code",
   "execution_count": 117,
   "metadata": {},
   "outputs": [
    {
     "name": "stdout",
     "output_type": "stream",
     "text": [
      "['appleorange', 'bananalemon', 'cherrypineapple']\n"
     ]
    }
   ],
   "source": [
    "def myfunc(a, b):\n",
    "  return a + b\n",
    "\n",
    "x = map(myfunc, ('apple', 'banana', 'cherry'), ('orange', 'lemon', 'pineapple'))\n",
    "\n",
    "# print(x)\n",
    "#convert the map into a list, for readability:\n",
    "print(list(x))"
   ]
  },
  {
   "cell_type": "code",
   "execution_count": 118,
   "metadata": {},
   "outputs": [],
   "source": [
    "import requests"
   ]
  },
  {
   "cell_type": "code",
   "execution_count": 119,
   "metadata": {},
   "outputs": [],
   "source": [
    "response = requests.get('https://google.com')"
   ]
  },
  {
   "cell_type": "code",
   "execution_count": 120,
   "metadata": {},
   "outputs": [
    {
     "data": {
      "text/plain": [
       "200"
      ]
     },
     "execution_count": 120,
     "metadata": {},
     "output_type": "execute_result"
    }
   ],
   "source": [
    "response.status_code"
   ]
  },
  {
   "cell_type": "code",
   "execution_count": 121,
   "metadata": {},
   "outputs": [],
   "source": [
    "# response.content"
   ]
  },
  {
   "cell_type": "code",
   "execution_count": 122,
   "metadata": {},
   "outputs": [
    {
     "data": {
      "text/plain": [
       "'https://api.ipify.org/'"
      ]
     },
     "execution_count": 122,
     "metadata": {},
     "output_type": "execute_result"
    }
   ],
   "source": [
    "r = requests.get('https://api.ipify.org')\n",
    "r.url"
   ]
  },
  {
   "cell_type": "code",
   "execution_count": 123,
   "metadata": {},
   "outputs": [
    {
     "data": {
      "text/plain": [
       "b'102.89.0.123'"
      ]
     },
     "execution_count": 123,
     "metadata": {},
     "output_type": "execute_result"
    }
   ],
   "source": [
    "r.content"
   ]
  },
  {
   "cell_type": "code",
   "execution_count": 124,
   "metadata": {},
   "outputs": [
    {
     "data": {
      "text/plain": [
       "'102.89.0.123'"
      ]
     },
     "execution_count": 124,
     "metadata": {},
     "output_type": "execute_result"
    }
   ],
   "source": [
    "r.text"
   ]
  },
  {
   "cell_type": "code",
   "execution_count": 125,
   "metadata": {},
   "outputs": [
    {
     "data": {
      "text/plain": [
       "b'{\"ip\":\"102.89.1.218\"}'"
      ]
     },
     "execution_count": 125,
     "metadata": {},
     "output_type": "execute_result"
    }
   ],
   "source": [
    "r = requests.get('https://api.ipify.org?format=json')\n",
    "r.content"
   ]
  },
  {
   "cell_type": "code",
   "execution_count": 126,
   "metadata": {},
   "outputs": [
    {
     "data": {
      "text/plain": [
       "{'ip': '102.89.1.218'}"
      ]
     },
     "execution_count": 126,
     "metadata": {},
     "output_type": "execute_result"
    }
   ],
   "source": [
    "my_ip = r.json()\n",
    "my_ip"
   ]
  },
  {
   "cell_type": "code",
   "execution_count": 127,
   "metadata": {},
   "outputs": [
    {
     "data": {
      "text/plain": [
       "'https://api.ipify.org/?format=json'"
      ]
     },
     "execution_count": 127,
     "metadata": {},
     "output_type": "execute_result"
    }
   ],
   "source": [
    "r = requests.get('https://api.ipify.org', params = {'format':'json'})\n",
    "r.url"
   ]
  },
  {
   "cell_type": "code",
   "execution_count": 128,
   "metadata": {},
   "outputs": [
    {
     "data": {
      "text/plain": [
       "{'ip': '102.89.1.218'}"
      ]
     },
     "execution_count": 128,
     "metadata": {},
     "output_type": "execute_result"
    }
   ],
   "source": [
    "my_ip"
   ]
  },
  {
   "cell_type": "code",
   "execution_count": 129,
   "metadata": {},
   "outputs": [
    {
     "data": {
      "text/plain": [
       "{'ip': '102.89.1.218',\n",
       " 'city': 'Lagos',\n",
       " 'region': 'Lagos',\n",
       " 'region_code': 'LA',\n",
       " 'country': 'NG',\n",
       " 'country_code': 'NG',\n",
       " 'country_code_iso3': 'NGA',\n",
       " 'country_capital': 'Abuja',\n",
       " 'country_tld': '.ng',\n",
       " 'country_name': 'Nigeria',\n",
       " 'continent_code': 'AF',\n",
       " 'in_eu': False,\n",
       " 'postal': None,\n",
       " 'latitude': 6.4474,\n",
       " 'longitude': 3.3903,\n",
       " 'timezone': 'Africa/Lagos',\n",
       " 'utc_offset': '+0100',\n",
       " 'country_calling_code': '+234',\n",
       " 'currency': 'NGN',\n",
       " 'currency_name': 'Naira',\n",
       " 'languages': 'en-NG,ha,yo,ig,ff',\n",
       " 'country_area': 923768.0,\n",
       " 'country_population': 154000000.0,\n",
       " 'asn': 'AS29465',\n",
       " 'org': 'MTN NIGERIA Communication limited'}"
      ]
     },
     "execution_count": 129,
     "metadata": {},
     "output_type": "execute_result"
    }
   ],
   "source": [
    "r = requests.get(f'https://ipapi.co/{my_ip[\"ip\"]}/json/')\n",
    "r.json()"
   ]
  },
  {
   "cell_type": "code",
   "execution_count": 130,
   "metadata": {},
   "outputs": [],
   "source": [
    "# r = requests.get('http://www.7timer.info/bin/api.pl?lon=113.17&lat=23.09&product=astro&output=json')\n",
    "\n",
    "url_base ='http://www.7timer.info/bin/api.pl'\n",
    "params = {'lon':113.17, 'lat':23.09, 'product':'civil', 'output':'json'}\n",
    "r = requests.get(url_base, params = params)"
   ]
  },
  {
   "cell_type": "code",
   "execution_count": 131,
   "metadata": {},
   "outputs": [
    {
     "data": {
      "text/plain": [
       "'http://www.7timer.info/bin/civil.php?lon=113.2&lat=23.1&ac=0&unit=metric&output=json&tzshift=0'"
      ]
     },
     "execution_count": 131,
     "metadata": {},
     "output_type": "execute_result"
    }
   ],
   "source": [
    "r.url"
   ]
  },
  {
   "cell_type": "code",
   "execution_count": 132,
   "metadata": {},
   "outputs": [],
   "source": [
    "# r.json()"
   ]
  },
  {
   "cell_type": "code",
   "execution_count": 133,
   "metadata": {},
   "outputs": [],
   "source": [
    "def get_weather(lon, lat):\n",
    "    url_base ='http://www.7timer.info/bin/api.pl'\n",
    "    params = {'lon':lon, 'lat':lat, 'product':'civil', 'output':'json'}\n",
    "    r = requests.get(url_base, params = params)\n",
    "    return r.json()"
   ]
  },
  {
   "cell_type": "code",
   "execution_count": 134,
   "metadata": {},
   "outputs": [],
   "source": [
    "# get_weather(3.3903,6.4474)"
   ]
  },
  {
   "cell_type": "code",
   "execution_count": 137,
   "metadata": {},
   "outputs": [],
   "source": [
    "import pandas as pd"
   ]
  },
  {
   "cell_type": "code",
   "execution_count": 138,
   "metadata": {},
   "outputs": [],
   "source": [
    "df = pd.read_html('https://en.wikipedia.org/wiki/World_population')"
   ]
  },
  {
   "cell_type": "code",
   "execution_count": 139,
   "metadata": {},
   "outputs": [
    {
     "data": {
      "text/plain": [
       "list"
      ]
     },
     "execution_count": 139,
     "metadata": {},
     "output_type": "execute_result"
    }
   ],
   "source": [
    "type(df)"
   ]
  },
  {
   "cell_type": "code",
   "execution_count": 140,
   "metadata": {},
   "outputs": [],
   "source": [
    "df_pop = df[5]"
   ]
  },
  {
   "cell_type": "code",
   "execution_count": 141,
   "metadata": {},
   "outputs": [
    {
     "data": {
      "text/html": [
       "<div>\n",
       "<style scoped>\n",
       "    .dataframe tbody tr th:only-of-type {\n",
       "        vertical-align: middle;\n",
       "    }\n",
       "\n",
       "    .dataframe tbody tr th {\n",
       "        vertical-align: top;\n",
       "    }\n",
       "\n",
       "    .dataframe thead th {\n",
       "        text-align: right;\n",
       "    }\n",
       "</style>\n",
       "<table border=\"1\" class=\"dataframe\">\n",
       "  <thead>\n",
       "    <tr style=\"text-align: right;\">\n",
       "      <th></th>\n",
       "      <th>Rank</th>\n",
       "      <th>Country / Territory</th>\n",
       "      <th>Population</th>\n",
       "      <th>% of worldpopulation</th>\n",
       "      <th>Date</th>\n",
       "      <th>Source</th>\n",
       "    </tr>\n",
       "  </thead>\n",
       "  <tbody>\n",
       "    <tr>\n",
       "      <th>0</th>\n",
       "      <td>1</td>\n",
       "      <td>China[note 4]</td>\n",
       "      <td>1404309800</td>\n",
       "      <td>NaN</td>\n",
       "      <td>6 Sep 2020</td>\n",
       "      <td>[89]</td>\n",
       "    </tr>\n",
       "    <tr>\n",
       "      <th>1</th>\n",
       "      <td>2</td>\n",
       "      <td>India</td>\n",
       "      <td>1366857671</td>\n",
       "      <td>NaN</td>\n",
       "      <td>6 Sep 2020</td>\n",
       "      <td>[citation needed]</td>\n",
       "    </tr>\n",
       "    <tr>\n",
       "      <th>2</th>\n",
       "      <td>3</td>\n",
       "      <td>United States</td>\n",
       "      <td>330256598</td>\n",
       "      <td>NaN</td>\n",
       "      <td>6 Sep 2020</td>\n",
       "      <td>[90]</td>\n",
       "    </tr>\n",
       "    <tr>\n",
       "      <th>3</th>\n",
       "      <td>4</td>\n",
       "      <td>Indonesia</td>\n",
       "      <td>265015300</td>\n",
       "      <td>3.39%</td>\n",
       "      <td>1 July 2018</td>\n",
       "      <td>[91]</td>\n",
       "    </tr>\n",
       "    <tr>\n",
       "      <th>4</th>\n",
       "      <td>5</td>\n",
       "      <td>Pakistan</td>\n",
       "      <td>220875520</td>\n",
       "      <td>NaN</td>\n",
       "      <td>6 Sep 2020</td>\n",
       "      <td>[92]</td>\n",
       "    </tr>\n",
       "  </tbody>\n",
       "</table>\n",
       "</div>"
      ],
      "text/plain": [
       "   Rank Country / Territory  Population % of worldpopulation         Date  \\\n",
       "0     1       China[note 4]  1404309800                  NaN   6 Sep 2020   \n",
       "1     2               India  1366857671                  NaN   6 Sep 2020   \n",
       "2     3       United States   330256598                  NaN   6 Sep 2020   \n",
       "3     4           Indonesia   265015300                3.39%  1 July 2018   \n",
       "4     5            Pakistan   220875520                  NaN   6 Sep 2020   \n",
       "\n",
       "              Source  \n",
       "0               [89]  \n",
       "1  [citation needed]  \n",
       "2               [90]  \n",
       "3               [91]  \n",
       "4               [92]  "
      ]
     },
     "execution_count": 141,
     "metadata": {},
     "output_type": "execute_result"
    }
   ],
   "source": [
    "df_pop.head()"
   ]
  },
  {
   "cell_type": "code",
   "execution_count": 142,
   "metadata": {},
   "outputs": [
    {
     "name": "stdout",
     "output_type": "stream",
     "text": [
      "<class 'pandas.core.frame.DataFrame'>\n",
      "RangeIndex: 10 entries, 0 to 9\n",
      "Data columns (total 6 columns):\n",
      " #   Column                Non-Null Count  Dtype \n",
      "---  ------                --------------  ----- \n",
      " 0   Rank                  10 non-null     int64 \n",
      " 1   Country / Territory   10 non-null     object\n",
      " 2   Population            10 non-null     int64 \n",
      " 3   % of worldpopulation  4 non-null      object\n",
      " 4   Date                  10 non-null     object\n",
      " 5   Source                10 non-null     object\n",
      "dtypes: int64(2), object(4)\n",
      "memory usage: 608.0+ bytes\n"
     ]
    }
   ],
   "source": [
    "df_pop.info()"
   ]
  },
  {
   "cell_type": "code",
   "execution_count": 143,
   "metadata": {},
   "outputs": [],
   "source": [
    "df_pop['pct_world_population'] = df_pop['% of worldpopulation'].str.replace('%','')"
   ]
  },
  {
   "cell_type": "code",
   "execution_count": 144,
   "metadata": {},
   "outputs": [
    {
     "data": {
      "text/html": [
       "<div>\n",
       "<style scoped>\n",
       "    .dataframe tbody tr th:only-of-type {\n",
       "        vertical-align: middle;\n",
       "    }\n",
       "\n",
       "    .dataframe tbody tr th {\n",
       "        vertical-align: top;\n",
       "    }\n",
       "\n",
       "    .dataframe thead th {\n",
       "        text-align: right;\n",
       "    }\n",
       "</style>\n",
       "<table border=\"1\" class=\"dataframe\">\n",
       "  <thead>\n",
       "    <tr style=\"text-align: right;\">\n",
       "      <th></th>\n",
       "      <th>Rank</th>\n",
       "      <th>Country / Territory</th>\n",
       "      <th>Population</th>\n",
       "      <th>% of worldpopulation</th>\n",
       "      <th>Date</th>\n",
       "      <th>Source</th>\n",
       "      <th>pct_world_population</th>\n",
       "    </tr>\n",
       "  </thead>\n",
       "  <tbody>\n",
       "    <tr>\n",
       "      <th>0</th>\n",
       "      <td>1</td>\n",
       "      <td>China[note 4]</td>\n",
       "      <td>1404309800</td>\n",
       "      <td>NaN</td>\n",
       "      <td>6 Sep 2020</td>\n",
       "      <td>[89]</td>\n",
       "      <td>NaN</td>\n",
       "    </tr>\n",
       "    <tr>\n",
       "      <th>1</th>\n",
       "      <td>2</td>\n",
       "      <td>India</td>\n",
       "      <td>1366857671</td>\n",
       "      <td>NaN</td>\n",
       "      <td>6 Sep 2020</td>\n",
       "      <td>[citation needed]</td>\n",
       "      <td>NaN</td>\n",
       "    </tr>\n",
       "    <tr>\n",
       "      <th>2</th>\n",
       "      <td>3</td>\n",
       "      <td>United States</td>\n",
       "      <td>330256598</td>\n",
       "      <td>NaN</td>\n",
       "      <td>6 Sep 2020</td>\n",
       "      <td>[90]</td>\n",
       "      <td>NaN</td>\n",
       "    </tr>\n",
       "    <tr>\n",
       "      <th>3</th>\n",
       "      <td>4</td>\n",
       "      <td>Indonesia</td>\n",
       "      <td>265015300</td>\n",
       "      <td>3.39%</td>\n",
       "      <td>1 July 2018</td>\n",
       "      <td>[91]</td>\n",
       "      <td>3.39</td>\n",
       "    </tr>\n",
       "    <tr>\n",
       "      <th>4</th>\n",
       "      <td>5</td>\n",
       "      <td>Pakistan</td>\n",
       "      <td>220875520</td>\n",
       "      <td>NaN</td>\n",
       "      <td>6 Sep 2020</td>\n",
       "      <td>[92]</td>\n",
       "      <td>NaN</td>\n",
       "    </tr>\n",
       "    <tr>\n",
       "      <th>5</th>\n",
       "      <td>6</td>\n",
       "      <td>Brazil</td>\n",
       "      <td>212029554</td>\n",
       "      <td>NaN</td>\n",
       "      <td>6 Sep 2020</td>\n",
       "      <td>[93]</td>\n",
       "      <td>NaN</td>\n",
       "    </tr>\n",
       "    <tr>\n",
       "      <th>6</th>\n",
       "      <td>7</td>\n",
       "      <td>Nigeria</td>\n",
       "      <td>208679114</td>\n",
       "      <td>2.41%</td>\n",
       "      <td>1 July 2019</td>\n",
       "      <td>[94]</td>\n",
       "      <td>2.41</td>\n",
       "    </tr>\n",
       "    <tr>\n",
       "      <th>7</th>\n",
       "      <td>8</td>\n",
       "      <td>Bangladesh</td>\n",
       "      <td>169255202</td>\n",
       "      <td>NaN</td>\n",
       "      <td>6 Sep 2020</td>\n",
       "      <td>[95]</td>\n",
       "      <td>NaN</td>\n",
       "    </tr>\n",
       "    <tr>\n",
       "      <th>8</th>\n",
       "      <td>9</td>\n",
       "      <td>Russia[note 5]</td>\n",
       "      <td>146748590</td>\n",
       "      <td>1.88%</td>\n",
       "      <td>1 January 2020</td>\n",
       "      <td>[96]</td>\n",
       "      <td>1.88</td>\n",
       "    </tr>\n",
       "    <tr>\n",
       "      <th>9</th>\n",
       "      <td>10</td>\n",
       "      <td>Mexico</td>\n",
       "      <td>126577691</td>\n",
       "      <td>1.62%</td>\n",
       "      <td>1 July 2019</td>\n",
       "      <td>[97]</td>\n",
       "      <td>1.62</td>\n",
       "    </tr>\n",
       "  </tbody>\n",
       "</table>\n",
       "</div>"
      ],
      "text/plain": [
       "   Rank Country / Territory  Population % of worldpopulation            Date  \\\n",
       "0     1       China[note 4]  1404309800                  NaN      6 Sep 2020   \n",
       "1     2               India  1366857671                  NaN      6 Sep 2020   \n",
       "2     3       United States   330256598                  NaN      6 Sep 2020   \n",
       "3     4           Indonesia   265015300                3.39%     1 July 2018   \n",
       "4     5            Pakistan   220875520                  NaN      6 Sep 2020   \n",
       "5     6              Brazil   212029554                  NaN      6 Sep 2020   \n",
       "6     7             Nigeria   208679114                2.41%     1 July 2019   \n",
       "7     8          Bangladesh   169255202                  NaN      6 Sep 2020   \n",
       "8     9      Russia[note 5]   146748590                1.88%  1 January 2020   \n",
       "9    10              Mexico   126577691                1.62%     1 July 2019   \n",
       "\n",
       "              Source pct_world_population  \n",
       "0               [89]                  NaN  \n",
       "1  [citation needed]                  NaN  \n",
       "2               [90]                  NaN  \n",
       "3               [91]                 3.39  \n",
       "4               [92]                  NaN  \n",
       "5               [93]                  NaN  \n",
       "6               [94]                 2.41  \n",
       "7               [95]                  NaN  \n",
       "8               [96]                 1.88  \n",
       "9               [97]                 1.62  "
      ]
     },
     "execution_count": 144,
     "metadata": {},
     "output_type": "execute_result"
    }
   ],
   "source": [
    "df_pop"
   ]
  },
  {
   "cell_type": "code",
   "execution_count": 145,
   "metadata": {},
   "outputs": [],
   "source": [
    "df_pop['pct_world_population'] = df_pop['pct_world_population'].astype('float')"
   ]
  },
  {
   "cell_type": "code",
   "execution_count": 146,
   "metadata": {},
   "outputs": [],
   "source": [
    "df_pop['% of worldpopulation'] = df_pop['% of worldpopulation'].fillna('None')"
   ]
  },
  {
   "cell_type": "code",
   "execution_count": 147,
   "metadata": {},
   "outputs": [
    {
     "data": {
      "text/html": [
       "<div>\n",
       "<style scoped>\n",
       "    .dataframe tbody tr th:only-of-type {\n",
       "        vertical-align: middle;\n",
       "    }\n",
       "\n",
       "    .dataframe tbody tr th {\n",
       "        vertical-align: top;\n",
       "    }\n",
       "\n",
       "    .dataframe thead th {\n",
       "        text-align: right;\n",
       "    }\n",
       "</style>\n",
       "<table border=\"1\" class=\"dataframe\">\n",
       "  <thead>\n",
       "    <tr style=\"text-align: right;\">\n",
       "      <th></th>\n",
       "      <th>Rank</th>\n",
       "      <th>Country / Territory</th>\n",
       "      <th>Population</th>\n",
       "      <th>% of worldpopulation</th>\n",
       "      <th>Date</th>\n",
       "      <th>Source</th>\n",
       "      <th>pct_world_population</th>\n",
       "    </tr>\n",
       "  </thead>\n",
       "  <tbody>\n",
       "    <tr>\n",
       "      <th>0</th>\n",
       "      <td>1</td>\n",
       "      <td>China[note 4]</td>\n",
       "      <td>1404309800</td>\n",
       "      <td>None</td>\n",
       "      <td>6 Sep 2020</td>\n",
       "      <td>[89]</td>\n",
       "      <td>NaN</td>\n",
       "    </tr>\n",
       "    <tr>\n",
       "      <th>1</th>\n",
       "      <td>2</td>\n",
       "      <td>India</td>\n",
       "      <td>1366857671</td>\n",
       "      <td>None</td>\n",
       "      <td>6 Sep 2020</td>\n",
       "      <td>[citation needed]</td>\n",
       "      <td>NaN</td>\n",
       "    </tr>\n",
       "    <tr>\n",
       "      <th>2</th>\n",
       "      <td>3</td>\n",
       "      <td>United States</td>\n",
       "      <td>330256598</td>\n",
       "      <td>None</td>\n",
       "      <td>6 Sep 2020</td>\n",
       "      <td>[90]</td>\n",
       "      <td>NaN</td>\n",
       "    </tr>\n",
       "    <tr>\n",
       "      <th>3</th>\n",
       "      <td>4</td>\n",
       "      <td>Indonesia</td>\n",
       "      <td>265015300</td>\n",
       "      <td>3.39%</td>\n",
       "      <td>1 July 2018</td>\n",
       "      <td>[91]</td>\n",
       "      <td>3.39</td>\n",
       "    </tr>\n",
       "    <tr>\n",
       "      <th>4</th>\n",
       "      <td>5</td>\n",
       "      <td>Pakistan</td>\n",
       "      <td>220875520</td>\n",
       "      <td>None</td>\n",
       "      <td>6 Sep 2020</td>\n",
       "      <td>[92]</td>\n",
       "      <td>NaN</td>\n",
       "    </tr>\n",
       "    <tr>\n",
       "      <th>5</th>\n",
       "      <td>6</td>\n",
       "      <td>Brazil</td>\n",
       "      <td>212029554</td>\n",
       "      <td>None</td>\n",
       "      <td>6 Sep 2020</td>\n",
       "      <td>[93]</td>\n",
       "      <td>NaN</td>\n",
       "    </tr>\n",
       "    <tr>\n",
       "      <th>6</th>\n",
       "      <td>7</td>\n",
       "      <td>Nigeria</td>\n",
       "      <td>208679114</td>\n",
       "      <td>2.41%</td>\n",
       "      <td>1 July 2019</td>\n",
       "      <td>[94]</td>\n",
       "      <td>2.41</td>\n",
       "    </tr>\n",
       "    <tr>\n",
       "      <th>7</th>\n",
       "      <td>8</td>\n",
       "      <td>Bangladesh</td>\n",
       "      <td>169255202</td>\n",
       "      <td>None</td>\n",
       "      <td>6 Sep 2020</td>\n",
       "      <td>[95]</td>\n",
       "      <td>NaN</td>\n",
       "    </tr>\n",
       "    <tr>\n",
       "      <th>8</th>\n",
       "      <td>9</td>\n",
       "      <td>Russia[note 5]</td>\n",
       "      <td>146748590</td>\n",
       "      <td>1.88%</td>\n",
       "      <td>1 January 2020</td>\n",
       "      <td>[96]</td>\n",
       "      <td>1.88</td>\n",
       "    </tr>\n",
       "    <tr>\n",
       "      <th>9</th>\n",
       "      <td>10</td>\n",
       "      <td>Mexico</td>\n",
       "      <td>126577691</td>\n",
       "      <td>1.62%</td>\n",
       "      <td>1 July 2019</td>\n",
       "      <td>[97]</td>\n",
       "      <td>1.62</td>\n",
       "    </tr>\n",
       "  </tbody>\n",
       "</table>\n",
       "</div>"
      ],
      "text/plain": [
       "   Rank Country / Territory  Population % of worldpopulation            Date  \\\n",
       "0     1       China[note 4]  1404309800                 None      6 Sep 2020   \n",
       "1     2               India  1366857671                 None      6 Sep 2020   \n",
       "2     3       United States   330256598                 None      6 Sep 2020   \n",
       "3     4           Indonesia   265015300                3.39%     1 July 2018   \n",
       "4     5            Pakistan   220875520                 None      6 Sep 2020   \n",
       "5     6              Brazil   212029554                 None      6 Sep 2020   \n",
       "6     7             Nigeria   208679114                2.41%     1 July 2019   \n",
       "7     8          Bangladesh   169255202                 None      6 Sep 2020   \n",
       "8     9      Russia[note 5]   146748590                1.88%  1 January 2020   \n",
       "9    10              Mexico   126577691                1.62%     1 July 2019   \n",
       "\n",
       "              Source  pct_world_population  \n",
       "0               [89]                   NaN  \n",
       "1  [citation needed]                   NaN  \n",
       "2               [90]                   NaN  \n",
       "3               [91]                  3.39  \n",
       "4               [92]                   NaN  \n",
       "5               [93]                   NaN  \n",
       "6               [94]                  2.41  \n",
       "7               [95]                   NaN  \n",
       "8               [96]                  1.88  \n",
       "9               [97]                  1.62  "
      ]
     },
     "execution_count": 147,
     "metadata": {},
     "output_type": "execute_result"
    }
   ],
   "source": [
    "df_pop"
   ]
  },
  {
   "cell_type": "code",
   "execution_count": 150,
   "metadata": {},
   "outputs": [],
   "source": [
    "df_pop['pct_world_population'] = df_pop['pct_world_population']/100"
   ]
  },
  {
   "cell_type": "code",
   "execution_count": 152,
   "metadata": {},
   "outputs": [
    {
     "data": {
      "text/html": [
       "<div>\n",
       "<style scoped>\n",
       "    .dataframe tbody tr th:only-of-type {\n",
       "        vertical-align: middle;\n",
       "    }\n",
       "\n",
       "    .dataframe tbody tr th {\n",
       "        vertical-align: top;\n",
       "    }\n",
       "\n",
       "    .dataframe thead th {\n",
       "        text-align: right;\n",
       "    }\n",
       "</style>\n",
       "<table border=\"1\" class=\"dataframe\">\n",
       "  <thead>\n",
       "    <tr style=\"text-align: right;\">\n",
       "      <th></th>\n",
       "      <th>Rank</th>\n",
       "      <th>Country / Territory</th>\n",
       "      <th>Population</th>\n",
       "      <th>% of worldpopulation</th>\n",
       "      <th>Date</th>\n",
       "      <th>Source</th>\n",
       "      <th>pct_world_population</th>\n",
       "    </tr>\n",
       "  </thead>\n",
       "  <tbody>\n",
       "    <tr>\n",
       "      <th>0</th>\n",
       "      <td>1</td>\n",
       "      <td>China[note 4]</td>\n",
       "      <td>1404309800</td>\n",
       "      <td>None</td>\n",
       "      <td>6 Sep 2020</td>\n",
       "      <td>[89]</td>\n",
       "      <td>NaN</td>\n",
       "    </tr>\n",
       "    <tr>\n",
       "      <th>1</th>\n",
       "      <td>2</td>\n",
       "      <td>India</td>\n",
       "      <td>1366857671</td>\n",
       "      <td>None</td>\n",
       "      <td>6 Sep 2020</td>\n",
       "      <td>[citation needed]</td>\n",
       "      <td>NaN</td>\n",
       "    </tr>\n",
       "    <tr>\n",
       "      <th>2</th>\n",
       "      <td>3</td>\n",
       "      <td>United States</td>\n",
       "      <td>330256598</td>\n",
       "      <td>None</td>\n",
       "      <td>6 Sep 2020</td>\n",
       "      <td>[90]</td>\n",
       "      <td>NaN</td>\n",
       "    </tr>\n",
       "    <tr>\n",
       "      <th>3</th>\n",
       "      <td>4</td>\n",
       "      <td>Indonesia</td>\n",
       "      <td>265015300</td>\n",
       "      <td>3.39%</td>\n",
       "      <td>1 July 2018</td>\n",
       "      <td>[91]</td>\n",
       "      <td>0.0339</td>\n",
       "    </tr>\n",
       "    <tr>\n",
       "      <th>4</th>\n",
       "      <td>5</td>\n",
       "      <td>Pakistan</td>\n",
       "      <td>220875520</td>\n",
       "      <td>None</td>\n",
       "      <td>6 Sep 2020</td>\n",
       "      <td>[92]</td>\n",
       "      <td>NaN</td>\n",
       "    </tr>\n",
       "  </tbody>\n",
       "</table>\n",
       "</div>"
      ],
      "text/plain": [
       "   Rank Country / Territory  Population % of worldpopulation         Date  \\\n",
       "0     1       China[note 4]  1404309800                 None   6 Sep 2020   \n",
       "1     2               India  1366857671                 None   6 Sep 2020   \n",
       "2     3       United States   330256598                 None   6 Sep 2020   \n",
       "3     4           Indonesia   265015300                3.39%  1 July 2018   \n",
       "4     5            Pakistan   220875520                 None   6 Sep 2020   \n",
       "\n",
       "              Source  pct_world_population  \n",
       "0               [89]                   NaN  \n",
       "1  [citation needed]                   NaN  \n",
       "2               [90]                   NaN  \n",
       "3               [91]                0.0339  \n",
       "4               [92]                   NaN  "
      ]
     },
     "execution_count": 152,
     "metadata": {},
     "output_type": "execute_result"
    }
   ],
   "source": [
    "df_pop.head()"
   ]
  },
  {
   "cell_type": "code",
   "execution_count": 162,
   "metadata": {},
   "outputs": [
    {
     "name": "stdout",
     "output_type": "stream",
     "text": [
      "{0: 0, 1: 1, 2: 4, 3: 9, 4: 16, 5: 25, 6: 36, 7: 49, 8: 64, 9: 81}\n"
     ]
    }
   ],
   "source": [
    "d = {x: x**2 for x in range(10)}\n",
    "print(d)"
   ]
  },
  {
   "cell_type": "code",
   "execution_count": 163,
   "metadata": {},
   "outputs": [],
   "source": [
    "from collections import defaultdict\n",
    "\n",
    "dd = defaultdict()"
   ]
  },
  {
   "cell_type": "code",
   "execution_count": 166,
   "metadata": {},
   "outputs": [
    {
     "data": {
      "text/plain": [
       "25"
      ]
     },
     "execution_count": 166,
     "metadata": {},
     "output_type": "execute_result"
    }
   ],
   "source": [
    "dd.update(d)\n",
    "dd[5]"
   ]
  },
  {
   "cell_type": "code",
   "execution_count": 171,
   "metadata": {},
   "outputs": [],
   "source": [
    "df.append?"
   ]
  },
  {
   "cell_type": "code",
   "execution_count": 176,
   "metadata": {},
   "outputs": [
    {
     "data": {
      "text/html": [
       "<div>\n",
       "<style scoped>\n",
       "    .dataframe tbody tr th:only-of-type {\n",
       "        vertical-align: middle;\n",
       "    }\n",
       "\n",
       "    .dataframe tbody tr th {\n",
       "        vertical-align: top;\n",
       "    }\n",
       "\n",
       "    .dataframe thead th {\n",
       "        text-align: right;\n",
       "    }\n",
       "</style>\n",
       "<table border=\"1\" class=\"dataframe\">\n",
       "  <thead>\n",
       "    <tr style=\"text-align: right;\">\n",
       "      <th></th>\n",
       "      <th>a</th>\n",
       "      <th>b</th>\n",
       "    </tr>\n",
       "  </thead>\n",
       "  <tbody>\n",
       "    <tr>\n",
       "      <th>0</th>\n",
       "      <td>1</td>\n",
       "      <td>4</td>\n",
       "    </tr>\n",
       "    <tr>\n",
       "      <th>1</th>\n",
       "      <td>2</td>\n",
       "      <td>5</td>\n",
       "    </tr>\n",
       "    <tr>\n",
       "      <th>2</th>\n",
       "      <td>3</td>\n",
       "      <td>6</td>\n",
       "    </tr>\n",
       "    <tr>\n",
       "      <th>0</th>\n",
       "      <td>7</td>\n",
       "      <td>20</td>\n",
       "    </tr>\n",
       "    <tr>\n",
       "      <th>1</th>\n",
       "      <td>8</td>\n",
       "      <td>21</td>\n",
       "    </tr>\n",
       "    <tr>\n",
       "      <th>2</th>\n",
       "      <td>9</td>\n",
       "      <td>22</td>\n",
       "    </tr>\n",
       "  </tbody>\n",
       "</table>\n",
       "</div>"
      ],
      "text/plain": [
       "   a   b\n",
       "0  1   4\n",
       "1  2   5\n",
       "2  3   6\n",
       "0  7  20\n",
       "1  8  21\n",
       "2  9  22"
      ]
     },
     "execution_count": 176,
     "metadata": {},
     "output_type": "execute_result"
    }
   ],
   "source": [
    "a = {'a': [1,2,3], 'b': [4,5,6]}\n",
    "b = {'a': [7,8,9], 'b': [20,21,22]}\n",
    "df = pd.DataFrame(a)\n",
    "df1 = pd.DataFrame(b)\n",
    "df.append(df1)"
   ]
  },
  {
   "cell_type": "code",
   "execution_count": null,
   "metadata": {},
   "outputs": [],
   "source": []
  }
 ],
 "metadata": {
  "kernelspec": {
   "display_name": "Python 3",
   "language": "python",
   "name": "python3"
  },
  "language_info": {
   "codemirror_mode": {
    "name": "ipython",
    "version": 3
   },
   "file_extension": ".py",
   "mimetype": "text/x-python",
   "name": "python",
   "nbconvert_exporter": "python",
   "pygments_lexer": "ipython3",
   "version": "3.7.6"
  }
 },
 "nbformat": 4,
 "nbformat_minor": 4
}
