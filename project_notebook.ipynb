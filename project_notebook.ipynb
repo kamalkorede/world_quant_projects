{
 "cells": [
  {
   "cell_type": "code",
   "execution_count": 48,
   "metadata": {},
   "outputs": [],
   "source": [
    "# https://ipapi.co/{ip_address}/json"
   ]
  },
  {
   "cell_type": "code",
   "execution_count": 49,
   "metadata": {},
   "outputs": [],
   "source": [
    "import requests"
   ]
  },
  {
   "cell_type": "code",
   "execution_count": 50,
   "metadata": {},
   "outputs": [],
   "source": [
    "response = requests.get('https://api.ipify.org')"
   ]
  },
  {
   "cell_type": "code",
   "execution_count": 51,
   "metadata": {},
   "outputs": [
    {
     "data": {
      "text/plain": [
       "'105.112.183.140'"
      ]
     },
     "execution_count": 51,
     "metadata": {},
     "output_type": "execute_result"
    }
   ],
   "source": [
    "response.text"
   ]
  },
  {
   "cell_type": "code",
   "execution_count": 52,
   "metadata": {},
   "outputs": [],
   "source": [
    "response = requests.get('http://ip-api.com/json/105.112.183.140')"
   ]
  },
  {
   "cell_type": "code",
   "execution_count": 53,
   "metadata": {},
   "outputs": [
    {
     "data": {
      "text/plain": [
       "{'status': 'success',\n",
       " 'country': 'Nigeria',\n",
       " 'countryCode': 'NG',\n",
       " 'region': 'LA',\n",
       " 'regionName': 'Lagos',\n",
       " 'city': 'Ikoyi',\n",
       " 'zip': '',\n",
       " 'lat': 6.46467,\n",
       " 'lon': 3.44907,\n",
       " 'timezone': 'Africa/Lagos',\n",
       " 'isp': 'Airtel Networks Limited',\n",
       " 'org': 'Airtel Networks Limited',\n",
       " 'as': 'AS36873 Airtel Networks Limited',\n",
       " 'query': '105.112.183.140'}"
      ]
     },
     "execution_count": 53,
     "metadata": {},
     "output_type": "execute_result"
    }
   ],
   "source": [
    "response.json()"
   ]
  },
  {
   "cell_type": "code",
   "execution_count": 54,
   "metadata": {},
   "outputs": [],
   "source": [
    "url_base = 'https://api.met.no/weatherapi/locationforecast/2.0/compact'\n",
    "\n",
    "response = requests.get(url_base, params={'lat': 6.46467, 'lon': 3.44907})\n",
    "data = response.json()\n",
    "# data\n",
    "temperature = data['properties']['timeseries'][0]['data']['instant']['details']['air_temperature']"
   ]
  },
  {
   "cell_type": "code",
   "execution_count": 55,
   "metadata": {},
   "outputs": [
    {
     "name": "stdout",
     "output_type": "stream",
     "text": [
      "https://api.met.no/weatherapi/locationforecast/2.0/compact?lat=6.46467&lon=3.44907\n",
      "25.2\n"
     ]
    }
   ],
   "source": [
    "print(response.url)\n",
    "print(temperature)"
   ]
  },
  {
   "cell_type": "code",
   "execution_count": 56,
   "metadata": {},
   "outputs": [],
   "source": [
    "import requests\n",
    "\n",
    "def fetch_ip_address():\n",
    "    \"\"\"Return a string of my IP address.\"\"\"\n",
    "    response = requests.get('https://api.ipify.org')\n",
    "    \n",
    "    return response.text"
   ]
  },
  {
   "cell_type": "code",
   "execution_count": 57,
   "metadata": {},
   "outputs": [],
   "source": [
    "def locate_ip_address(ip_address):\n",
    "    \"\"\"Return latitude and longitude for a given IP address\"\"\"\n",
    "    response = requests.get(f'http://ip-api.com/json/{ip_address}')\n",
    "    data = response.json()\n",
    "    \n",
    "    return data['lat'], data['lon'], data['city'], data['regionName'], data['country']"
   ]
  },
  {
   "cell_type": "code",
   "execution_count": 58,
   "metadata": {},
   "outputs": [],
   "source": [
    "def get_temperature(lat, lon):\n",
    "    \"\"\"Return current temperature for a location given the latitude and longitude.\"\"\"\n",
    "    url_base = 'https://api.met.no/weatherapi/locationforecast/2.0/compact'\n",
    "\n",
    "    response = requests.get(url_base, params={'lat': lat, 'lon': lon})\n",
    "    data = response.json()\n",
    "    temperature = data['properties']['timeseries'][0]['data']['instant']['details']['air_temperature']\n",
    "    \n",
    "    return temperature"
   ]
  },
  {
   "cell_type": "code",
   "execution_count": 59,
   "metadata": {},
   "outputs": [],
   "source": [
    "def convert_to_fahr(temp_C):\n",
    "    return 9 / 5 * temp_C + 32"
   ]
  },
  {
   "cell_type": "code",
   "execution_count": 66,
   "metadata": {},
   "outputs": [],
   "source": [
    "def main():\n",
    "    ip_address = fetch_ip_address()\n",
    "    lat, lon, city, state, country = locate_ip_address(ip_address)\n",
    "    temp_C = get_temperature(lat, lon)\n",
    "    temp_F = convert_to_fahr(temp_C)\n",
    "    \n",
    "    return f\"It's {temp_C} deg Celsius or {temp_F} deg F in {city}, {state} {country} \""
   ]
  },
  {
   "cell_type": "code",
   "execution_count": 67,
   "metadata": {},
   "outputs": [
    {
     "data": {
      "text/plain": [
       "\"It's 25.2 deg Celsius or 77.36 deg F in Ikoyi, Lagos Nigeria \""
      ]
     },
     "execution_count": 67,
     "metadata": {},
     "output_type": "execute_result"
    }
   ],
   "source": [
    "main()"
   ]
  },
  {
   "cell_type": "code",
   "execution_count": null,
   "metadata": {},
   "outputs": [],
   "source": []
  }
 ],
 "metadata": {
  "kernelspec": {
   "display_name": "Python 3",
   "language": "python",
   "name": "python3"
  },
  "language_info": {
   "codemirror_mode": {
    "name": "ipython",
    "version": 3
   },
   "file_extension": ".py",
   "mimetype": "text/x-python",
   "name": "python",
   "nbconvert_exporter": "python",
   "pygments_lexer": "ipython3",
   "version": "3.7.6"
  }
 },
 "nbformat": 4,
 "nbformat_minor": 2
}
