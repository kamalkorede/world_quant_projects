{
 "cells": [
  {
   "cell_type": "code",
   "execution_count": null,
   "metadata": {},
   "outputs": [],
   "source": [
    "# https://ipapi.co/{ip_address}/json"
   ]
  },
  {
   "cell_type": "code",
   "execution_count": 1,
   "metadata": {},
   "outputs": [],
   "source": [
    "import requests"
   ]
  },
  {
   "cell_type": "code",
   "execution_count": 2,
   "metadata": {},
   "outputs": [],
   "source": [
    "response = requests.get('https://api.ipify.org')"
   ]
  },
  {
   "cell_type": "code",
   "execution_count": 5,
   "metadata": {},
   "outputs": [
    {
     "data": {
      "text/plain": [
       "b'54.80.140.101'"
      ]
     },
     "execution_count": 5,
     "metadata": {},
     "output_type": "execute_result"
    }
   ],
   "source": [
    "response.content"
   ]
  },
  {
   "cell_type": "code",
   "execution_count": 7,
   "metadata": {},
   "outputs": [],
   "source": [
    "response = requests.get('http://ip-api.com/json/105.112.183.140')"
   ]
  },
  {
   "cell_type": "code",
   "execution_count": 8,
   "metadata": {},
   "outputs": [
    {
     "data": {
      "text/plain": [
       "{'status': 'success',\n",
       " 'country': 'United States',\n",
       " 'countryCode': 'US',\n",
       " 'region': 'VA',\n",
       " 'regionName': 'Virginia',\n",
       " 'city': 'Ashburn',\n",
       " 'zip': '20149',\n",
       " 'lat': 39.0438,\n",
       " 'lon': -77.4874,\n",
       " 'timezone': 'America/New_York',\n",
       " 'isp': 'Amazon.com, Inc.',\n",
       " 'org': 'AWS EC2 (us-east-1)',\n",
       " 'as': 'AS14618 Amazon.com, Inc.',\n",
       " 'query': '54.80.140.101'}"
      ]
     },
     "execution_count": 8,
     "metadata": {},
     "output_type": "execute_result"
    }
   ],
   "source": [
    "response.json()"
   ]
  },
  {
   "cell_type": "code",
   "execution_count": 10,
   "metadata": {},
   "outputs": [],
   "source": [
    "url_base = 'https://api.met.no/weatherapi/locationforecast/2.0/compact'\n",
    "\n",
    "response = requests.get(url_base, params={'lat': 39.0438, 'lon': -77.4874})\n",
    "data = response.json()\n",
    "temperature = data['properties']['timeseries'][0]['data']['instant']['details']['air_temperature']"
   ]
  },
  {
   "cell_type": "code",
   "execution_count": 11,
   "metadata": {},
   "outputs": [
    {
     "name": "stdout",
     "output_type": "stream",
     "text": [
      "https://api.met.no/weatherapi/locationforecast/2.0/compact?lat=39.0438&lon=-77.4874\n",
      "26.6\n"
     ]
    }
   ],
   "source": [
    "print(response.url)\n",
    "print(temperature)"
   ]
  },
  {
   "cell_type": "code",
   "execution_count": 12,
   "metadata": {},
   "outputs": [],
   "source": [
    "import requests\n",
    "\n",
    "def fetch_ip_address():\n",
    "    \"\"\"Return a string of my IP address.\"\"\"\n",
    "    response = requests.get('https://api.ipify.org')\n",
    "    \n",
    "    return response.text"
   ]
  },
  {
   "cell_type": "code",
   "execution_count": 13,
   "metadata": {},
   "outputs": [],
   "source": [
    "def locate_ip_address(ip_address):\n",
    "    \"\"\"Return latitude and longitude for a given IP address\"\"\"\n",
    "    response = requests.get(f'http://ip-api.com/json/{ip_address}')\n",
    "    data = response.json()\n",
    "    \n",
    "    return data['lat'], data['lon']"
   ]
  },
  {
   "cell_type": "code",
   "execution_count": 14,
   "metadata": {},
   "outputs": [],
   "source": [
    "def get_temperature(lat, lon):\n",
    "    \"\"\"Return current temperature for a location given the latitude and longitude.\"\"\"\n",
    "    url_base = 'https://api.met.no/weatherapi/locationforecast/2.0/compact'\n",
    "\n",
    "    response = requests.get(url_base, params={'lat': lat, 'lon': lon})\n",
    "    data = response.json()\n",
    "    temperature = data['properties']['timeseries'][0]['data']['instant']['details']['air_temperature']\n",
    "    \n",
    "    return temperature"
   ]
  },
  {
   "cell_type": "code",
   "execution_count": 17,
   "metadata": {},
   "outputs": [],
   "source": [
    "def convert_to_fahr(temp_C):\n",
    "    return 9 / 5 * temp_C + 32"
   ]
  },
  {
   "cell_type": "code",
   "execution_count": 22,
   "metadata": {},
   "outputs": [],
   "source": [
    "def main():\n",
    "    ip_address = fetch_ip_address()\n",
    "    lat, lon = locate_ip_address(ip_address)\n",
    "    temp_C = get_temperature(lat, lon)\n",
    "    temp_F = convert_to_fahr(temp_C)\n",
    "    \n",
    "    return f\"It's {temp_F} deg F\""
   ]
  },
  {
   "cell_type": "code",
   "execution_count": 23,
   "metadata": {},
   "outputs": [
    {
     "data": {
      "text/plain": [
       "\"It's 79.88 deg F\""
      ]
     },
     "execution_count": 23,
     "metadata": {},
     "output_type": "execute_result"
    }
   ],
   "source": [
    "main()"
   ]
  },
  {
   "cell_type": "code",
   "execution_count": null,
   "metadata": {},
   "outputs": [],
   "source": []
  }
 ],
 "metadata": {
  "kernelspec": {
   "display_name": "Python 3",
   "language": "python",
   "name": "python3"
  },
  "language_info": {
   "codemirror_mode": {
    "name": "ipython",
    "version": 3
   },
   "file_extension": ".py",
   "mimetype": "text/x-python",
   "name": "python",
   "nbconvert_exporter": "python",
   "pygments_lexer": "ipython3",
   "version": "3.7.6"
  }
 },
 "nbformat": 4,
 "nbformat_minor": 2
}
