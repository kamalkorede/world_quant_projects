{
 "cells": [
  {
   "cell_type": "code",
   "execution_count": 157,
   "metadata": {
    "init_cell": true
   },
   "outputs": [],
   "source": [
    "%logstop\n",
    "%logstart -rtq ~/.logs/dw.py append\n",
    "%matplotlib inline\n",
    "import matplotlib\n",
    "import seaborn as sns\n",
    "sns.set()\n",
    "matplotlib.rcParams['figure.dpi'] = 144"
   ]
  },
  {
   "cell_type": "code",
   "execution_count": 3,
   "metadata": {},
   "outputs": [],
   "source": [
    "from static_grader import grader"
   ]
  },
  {
   "cell_type": "markdown",
   "metadata": {},
   "source": [
    "# DW Miniproject\n",
    "## Introduction\n",
    "\n",
    "The objective of this miniproject is to exercise your ability to wrangle tabular data set and aggregate large data sets into meaningful summary statistics. We'll work with the same medical data used in the `pw` miniproject but leverage the power of Pandas to more efficiently represent and act on our data."
   ]
  },
  {
   "cell_type": "markdown",
   "metadata": {},
   "source": [
    "## Downloading the data\n",
    "\n",
    "We first need to download the data we'll be using from Amazon S3:"
   ]
  },
  {
   "cell_type": "code",
   "execution_count": 4,
   "metadata": {},
   "outputs": [
    {
     "name": "stdout",
     "output_type": "stream",
     "text": [
      "mkdir: cannot create directory ‘dw-data’: File exists\n",
      "File ‘./dw-data/201701scripts_sample.csv.gz’ already there; not retrieving.\n",
      "\n",
      "File ‘./dw-data/201606scripts_sample.csv.gz’ already there; not retrieving.\n",
      "\n",
      "File ‘./dw-data/practices.csv.gz’ already there; not retrieving.\n",
      "\n",
      "File ‘./dw-data/chem.csv.gz’ already there; not retrieving.\n",
      "\n"
     ]
    }
   ],
   "source": [
    "!mkdir dw-data\n",
    "!wget http://dataincubator-wqu.s3.amazonaws.com/dwdata/201701scripts_sample.csv.gz -nc -P ./dw-data/\n",
    "!wget http://dataincubator-wqu.s3.amazonaws.com/dwdata/201606scripts_sample.csv.gz -nc -P ./dw-data/\n",
    "!wget http://dataincubator-wqu.s3.amazonaws.com/dwdata/practices.csv.gz -nc -P ./dw-data/\n",
    "!wget http://dataincubator-wqu.s3.amazonaws.com/dwdata/chem.csv.gz -nc -P ./dw-data/"
   ]
  },
  {
   "cell_type": "markdown",
   "metadata": {},
   "source": [
    "## Loading the data\n",
    "\n",
    "Similar to the `PW` miniproject, the first step is to read in the data. The data files are stored as compressed CSV files. You can load the data into a Pandas DataFrame by making use of the `gzip` package to decompress the files and Panda's `read_csv` methods to parse the data into a DataFrame. You may want to check the Pandas documentation for parsing [CSV](http://pandas.pydata.org/pandas-docs/stable/generated/pandas.read_csv.html) files for reference.\n",
    "\n",
    "For a description of the data set please, refer to the [PW miniproject](./pw.ipynb). **Note that all questions make use of the 2017 data only, except for Question 5 which makes use of both the 2017 and 2016 data.**"
   ]
  },
  {
   "cell_type": "code",
   "execution_count": 5,
   "metadata": {},
   "outputs": [],
   "source": [
    "import pandas as pd\n",
    "import numpy as np\n",
    "import gzip"
   ]
  },
  {
   "cell_type": "code",
   "execution_count": 84,
   "metadata": {},
   "outputs": [
    {
     "data": {
      "text/html": [
       "<div>\n",
       "<style scoped>\n",
       "    .dataframe tbody tr th:only-of-type {\n",
       "        vertical-align: middle;\n",
       "    }\n",
       "\n",
       "    .dataframe tbody tr th {\n",
       "        vertical-align: top;\n",
       "    }\n",
       "\n",
       "    .dataframe thead th {\n",
       "        text-align: right;\n",
       "    }\n",
       "</style>\n",
       "<table border=\"1\" class=\"dataframe\">\n",
       "  <thead>\n",
       "    <tr style=\"text-align: right;\">\n",
       "      <th></th>\n",
       "      <th>practice</th>\n",
       "      <th>bnf_code</th>\n",
       "      <th>bnf_name</th>\n",
       "      <th>items</th>\n",
       "      <th>nic</th>\n",
       "      <th>act_cost</th>\n",
       "      <th>quantity</th>\n",
       "    </tr>\n",
       "  </thead>\n",
       "  <tbody>\n",
       "    <tr>\n",
       "      <th>0</th>\n",
       "      <td>N85639</td>\n",
       "      <td>0106020C0</td>\n",
       "      <td>Bisacodyl_Tab E/C 5mg</td>\n",
       "      <td>1</td>\n",
       "      <td>0.39</td>\n",
       "      <td>0.47</td>\n",
       "      <td>12</td>\n",
       "    </tr>\n",
       "    <tr>\n",
       "      <th>1</th>\n",
       "      <td>N85639</td>\n",
       "      <td>0106040M0</td>\n",
       "      <td>Movicol Plain_Paed Pdr Sach 6.9g</td>\n",
       "      <td>1</td>\n",
       "      <td>4.38</td>\n",
       "      <td>4.07</td>\n",
       "      <td>30</td>\n",
       "    </tr>\n",
       "    <tr>\n",
       "      <th>2</th>\n",
       "      <td>N85639</td>\n",
       "      <td>0301011R0</td>\n",
       "      <td>Salbutamol_Inha 100mcg (200 D) CFF</td>\n",
       "      <td>1</td>\n",
       "      <td>1.50</td>\n",
       "      <td>1.40</td>\n",
       "      <td>1</td>\n",
       "    </tr>\n",
       "    <tr>\n",
       "      <th>3</th>\n",
       "      <td>N85639</td>\n",
       "      <td>0304010G0</td>\n",
       "      <td>Chlorphenamine Mal_Oral Soln 2mg/5ml</td>\n",
       "      <td>1</td>\n",
       "      <td>2.62</td>\n",
       "      <td>2.44</td>\n",
       "      <td>150</td>\n",
       "    </tr>\n",
       "    <tr>\n",
       "      <th>4</th>\n",
       "      <td>N85639</td>\n",
       "      <td>0401020K0</td>\n",
       "      <td>Diazepam_Tab 2mg</td>\n",
       "      <td>1</td>\n",
       "      <td>0.16</td>\n",
       "      <td>0.26</td>\n",
       "      <td>6</td>\n",
       "    </tr>\n",
       "  </tbody>\n",
       "</table>\n",
       "</div>"
      ],
      "text/plain": [
       "  practice   bnf_code                              bnf_name  items   nic  \\\n",
       "0   N85639  0106020C0                 Bisacodyl_Tab E/C 5mg      1  0.39   \n",
       "1   N85639  0106040M0      Movicol Plain_Paed Pdr Sach 6.9g      1  4.38   \n",
       "2   N85639  0301011R0    Salbutamol_Inha 100mcg (200 D) CFF      1  1.50   \n",
       "3   N85639  0304010G0  Chlorphenamine Mal_Oral Soln 2mg/5ml      1  2.62   \n",
       "4   N85639  0401020K0                      Diazepam_Tab 2mg      1  0.16   \n",
       "\n",
       "   act_cost  quantity  \n",
       "0      0.47        12  \n",
       "1      4.07        30  \n",
       "2      1.40         1  \n",
       "3      2.44       150  \n",
       "4      0.26         6  "
      ]
     },
     "execution_count": 84,
     "metadata": {},
     "output_type": "execute_result"
    }
   ],
   "source": [
    "# load the 2017 data\n",
    "scripts = gzip.open('./dw-data/201701scripts_sample.csv.gz', 'rb')\n",
    "scripts = pd.read_csv(scripts)\n",
    "scripts.head()"
   ]
  },
  {
   "cell_type": "code",
   "execution_count": 7,
   "metadata": {},
   "outputs": [
    {
     "data": {
      "text/html": [
       "<div>\n",
       "<style scoped>\n",
       "    .dataframe tbody tr th:only-of-type {\n",
       "        vertical-align: middle;\n",
       "    }\n",
       "\n",
       "    .dataframe tbody tr th {\n",
       "        vertical-align: top;\n",
       "    }\n",
       "\n",
       "    .dataframe thead th {\n",
       "        text-align: right;\n",
       "    }\n",
       "</style>\n",
       "<table border=\"1\" class=\"dataframe\">\n",
       "  <thead>\n",
       "    <tr style=\"text-align: right;\">\n",
       "      <th></th>\n",
       "      <th>practice</th>\n",
       "      <th>bnf_code</th>\n",
       "      <th>bnf_name</th>\n",
       "      <th>items</th>\n",
       "      <th>nic</th>\n",
       "      <th>act_cost</th>\n",
       "      <th>quantity</th>\n",
       "    </tr>\n",
       "  </thead>\n",
       "  <tbody>\n",
       "    <tr>\n",
       "      <th>0</th>\n",
       "      <td>N85638</td>\n",
       "      <td>0301011R0</td>\n",
       "      <td>Salamol_Inha 100mcg (200 D) CFF (Teva)</td>\n",
       "      <td>2</td>\n",
       "      <td>2.92</td>\n",
       "      <td>2.73</td>\n",
       "      <td>2</td>\n",
       "    </tr>\n",
       "    <tr>\n",
       "      <th>1</th>\n",
       "      <td>N85638</td>\n",
       "      <td>0301011R0</td>\n",
       "      <td>Easyhaler_Salbutamol Sulf 200mcg (200D)</td>\n",
       "      <td>1</td>\n",
       "      <td>6.63</td>\n",
       "      <td>6.15</td>\n",
       "      <td>1</td>\n",
       "    </tr>\n",
       "    <tr>\n",
       "      <th>2</th>\n",
       "      <td>N85638</td>\n",
       "      <td>0301020I0</td>\n",
       "      <td>Ipratrop Brom_Inh Soln 500mcg/2ml Ud</td>\n",
       "      <td>1</td>\n",
       "      <td>1.77</td>\n",
       "      <td>1.75</td>\n",
       "      <td>12</td>\n",
       "    </tr>\n",
       "    <tr>\n",
       "      <th>3</th>\n",
       "      <td>N85638</td>\n",
       "      <td>0301020I0</td>\n",
       "      <td>Ipratrop Brom_Inh Soln 250mcg/1ml Ud</td>\n",
       "      <td>1</td>\n",
       "      <td>4.47</td>\n",
       "      <td>4.15</td>\n",
       "      <td>20</td>\n",
       "    </tr>\n",
       "    <tr>\n",
       "      <th>4</th>\n",
       "      <td>N85638</td>\n",
       "      <td>0302000C0</td>\n",
       "      <td>Clenil Modulite_Inha 50mcg (200D)</td>\n",
       "      <td>1</td>\n",
       "      <td>3.70</td>\n",
       "      <td>3.44</td>\n",
       "      <td>1</td>\n",
       "    </tr>\n",
       "  </tbody>\n",
       "</table>\n",
       "</div>"
      ],
      "text/plain": [
       "  practice   bnf_code                                 bnf_name  items   nic  \\\n",
       "0   N85638  0301011R0   Salamol_Inha 100mcg (200 D) CFF (Teva)      2  2.92   \n",
       "1   N85638  0301011R0  Easyhaler_Salbutamol Sulf 200mcg (200D)      1  6.63   \n",
       "2   N85638  0301020I0     Ipratrop Brom_Inh Soln 500mcg/2ml Ud      1  1.77   \n",
       "3   N85638  0301020I0     Ipratrop Brom_Inh Soln 250mcg/1ml Ud      1  4.47   \n",
       "4   N85638  0302000C0        Clenil Modulite_Inha 50mcg (200D)      1  3.70   \n",
       "\n",
       "   act_cost  quantity  \n",
       "0      2.73         2  \n",
       "1      6.15         1  \n",
       "2      1.75        12  \n",
       "3      4.15        20  \n",
       "4      3.44         1  "
      ]
     },
     "execution_count": 7,
     "metadata": {},
     "output_type": "execute_result"
    }
   ],
   "source": [
    "script16 = gzip.open('./dw-data/201606scripts_sample.csv.gz', 'rb')\n",
    "script16 = pd.read_csv(script16)\n",
    "script16.head()"
   ]
  },
  {
   "cell_type": "code",
   "execution_count": 8,
   "metadata": {},
   "outputs": [],
   "source": [
    "practices = gzip.open('./dw-data/practices.csv.gz', 'rb')\n",
    "col_names=[ 'code', 'name', 'addr_1', 'addr_2', 'borough', 'village', 'post_code']\n",
    "# practices = pd.read_csv(practices, header = None)\n",
    "practices = pd.read_csv(practices, names = col_names)\n",
    "# practices.columns = col_names\n",
    "# practices.head()"
   ]
  },
  {
   "cell_type": "code",
   "execution_count": 9,
   "metadata": {},
   "outputs": [
    {
     "data": {
      "text/html": [
       "<div>\n",
       "<style scoped>\n",
       "    .dataframe tbody tr th:only-of-type {\n",
       "        vertical-align: middle;\n",
       "    }\n",
       "\n",
       "    .dataframe tbody tr th {\n",
       "        vertical-align: top;\n",
       "    }\n",
       "\n",
       "    .dataframe thead th {\n",
       "        text-align: right;\n",
       "    }\n",
       "</style>\n",
       "<table border=\"1\" class=\"dataframe\">\n",
       "  <thead>\n",
       "    <tr style=\"text-align: right;\">\n",
       "      <th></th>\n",
       "      <th>CHEM SUB</th>\n",
       "      <th>NAME</th>\n",
       "    </tr>\n",
       "  </thead>\n",
       "  <tbody>\n",
       "    <tr>\n",
       "      <th>0</th>\n",
       "      <td>0101010A0</td>\n",
       "      <td>Alexitol Sodium</td>\n",
       "    </tr>\n",
       "    <tr>\n",
       "      <th>1</th>\n",
       "      <td>0101010B0</td>\n",
       "      <td>Almasilate</td>\n",
       "    </tr>\n",
       "    <tr>\n",
       "      <th>2</th>\n",
       "      <td>0101010C0</td>\n",
       "      <td>Aluminium Hydroxide</td>\n",
       "    </tr>\n",
       "    <tr>\n",
       "      <th>3</th>\n",
       "      <td>0101010D0</td>\n",
       "      <td>Aluminium Hydroxide With Magnesium</td>\n",
       "    </tr>\n",
       "    <tr>\n",
       "      <th>4</th>\n",
       "      <td>0101010E0</td>\n",
       "      <td>Hydrotalcite</td>\n",
       "    </tr>\n",
       "  </tbody>\n",
       "</table>\n",
       "</div>"
      ],
      "text/plain": [
       "    CHEM SUB                                NAME\n",
       "0  0101010A0                     Alexitol Sodium\n",
       "1  0101010B0                          Almasilate\n",
       "2  0101010C0                 Aluminium Hydroxide\n",
       "3  0101010D0  Aluminium Hydroxide With Magnesium\n",
       "4  0101010E0                        Hydrotalcite"
      ]
     },
     "execution_count": 9,
     "metadata": {},
     "output_type": "execute_result"
    }
   ],
   "source": [
    "chem = gzip.open('./dw-data/chem.csv.gz', 'rb')\n",
    "chem = pd.read_csv(chem)\n",
    "chem.head()"
   ]
  },
  {
   "cell_type": "markdown",
   "metadata": {},
   "source": [
    "Now that we've loaded in the data, let's first replicate our results from the `PW` miniproject. Note that we are now working with a larger data set so the answers will be different than in the `PW` miniproject even if the analysis is the same."
   ]
  },
  {
   "cell_type": "markdown",
   "metadata": {},
   "source": [
    "## Question 1: summary_statistics\n",
    "\n",
    "In the `PW` miniproject we first calculated the total, mean, standard deviation, and quartile statistics of the `'items'`, `'quantity'`', `'nic'`, and `'act_cost'` fields. To do this we had to write some functions to calculate the statistics and apply the functions to our data structure. The DataFrame has a `describe` method that will calculate most (not all) of these things for us.\n",
    "\n",
    "Submit the summary statistics to the grader as a list of tuples: [('act_cost', (total, mean, std, q25, median, q75)), ...]"
   ]
  },
  {
   "cell_type": "code",
   "execution_count": 10,
   "metadata": {},
   "outputs": [],
   "source": [
    "# %%timeit\n",
    "# stats= scripts.describe()\n",
    "# total = scripts [['items','quantity','nic','act_cost']].sum()\n",
    "# stats.loc['total'] = [total['items'], total['nic'], total['act_cost'], total['quantity']]\n",
    "# rows = [ 'total' , 'mean' , 'std', '25%' , '50%' ,'75%']\n",
    "\n",
    "# summary_stats = [(stats.columns[x], tuple([stats[stats.columns[x]][i] for i in rows])) for x in range(4)]\n",
    "# summary_stats"
   ]
  },
  {
   "cell_type": "code",
   "execution_count": 11,
   "metadata": {},
   "outputs": [],
   "source": [
    "# %%timeit\n",
    "def describe(key):\n",
    "    items = pd.Series(scripts[key])\n",
    "    items = (items.sum(),items.mean(),items.std(),items.quantile(.25),items.quantile(.5),items.quantile(.75))\n",
    "    return(items)\n",
    "\n",
    "summary_stats = [('items', describe('items')),\n",
    "           ('quantity', describe('quantity')),\n",
    "           ('nic', describe('nic')),\n",
    "           ('act_cost', describe('act_cost'))]\n",
    "# summary_stats"
   ]
  },
  {
   "cell_type": "code",
   "execution_count": 12,
   "metadata": {},
   "outputs": [
    {
     "name": "stdout",
     "output_type": "stream",
     "text": [
      "==================\n",
      "Your score:  1.0\n",
      "==================\n"
     ]
    }
   ],
   "source": [
    "grader.score.dw__summary_statistics(summary_stats)"
   ]
  },
  {
   "cell_type": "markdown",
   "metadata": {},
   "source": [
    "## Question 2: most_common_item\n",
    "\n",
    "We can also easily compute summary statistics on groups within the data. In the `pw` miniproject we had to explicitly construct the groups based on the values of a particular field. Pandas will handle that for us via the `groupby` method. This process is [detailed in the Pandas documentation](https://pandas.pydata.org/pandas-docs/stable/groupby.html).\n",
    "\n",
    "Use `groupby` to calculate the total number of items dispensed for each `'bnf_name'`. Find the item with the highest total and return the result as `[(bnf_name, total)]`."
   ]
  },
  {
   "cell_type": "code",
   "execution_count": 13,
   "metadata": {},
   "outputs": [
    {
     "data": {
      "text/plain": [
       "<bound method NDFrame.head of bnf_name\n",
       "Omeprazole_Cap E/C 20mg                     218583\n",
       "Paracet_Tab 500mg                           151669\n",
       "Aspirin Disper_Tab 75mg                     148591\n",
       "Simvastatin_Tab 40mg                        132941\n",
       "Amlodipine_Tab 5mg                          128245\n",
       "                                             ...  \n",
       "Quest_Cell Life Antiox Tab                       1\n",
       "Quest_Lactase Tab                                1\n",
       "Juzo Soft Rib Style Class 1 B/Knee Close         1\n",
       "Quetiapine_Oral Soln 12.5mg/5ml                  1\n",
       "ReadyWrap Gauntlet Lymph Gmt                     1\n",
       "Name: items, Length: 13471, dtype: int64>"
      ]
     },
     "execution_count": 13,
     "metadata": {},
     "output_type": "execute_result"
    }
   ],
   "source": [
    "group_by_bnf = scripts.groupby('bnf_name')['items'].sum().sort_values(ascending=False)\n",
    "group_by_bnf.head"
   ]
  },
  {
   "cell_type": "code",
   "execution_count": 14,
   "metadata": {},
   "outputs": [
    {
     "data": {
      "text/plain": [
       "[('Omeprazole_Cap E/C 20mg', 218583)]"
      ]
     },
     "execution_count": 14,
     "metadata": {},
     "output_type": "execute_result"
    }
   ],
   "source": [
    "most_common_item = [(group_by_bnf.idxmax(),group_by_bnf.max())]\n",
    "most_common_item"
   ]
  },
  {
   "cell_type": "code",
   "execution_count": 2,
   "metadata": {},
   "outputs": [],
   "source": [
    "# grader.score.dw__most_common_item(most_common_item)"
   ]
  },
  {
   "cell_type": "markdown",
   "metadata": {},
   "source": [
    "## Question 3: items_by_region\n",
    "\n",
    "Now let's find the most common item by post code. The post code information is in the `practices` DataFrame, and we'll need to `merge` it into the `scripts` DataFrame. Pandas provides [extensive documentation](https://pandas.pydata.org/pandas-docs/stable/merging.html) with diagrammed examples on different methods and approaches for joining data. The `merge` method is only one of many possible options.\n",
    "\n",
    "Return your results as a list of tuples `(post code, item name, amount dispensed as % of total)`. Sort your results ascending alphabetically by post code and take only results from the first 100 post codes.\n",
    "\n",
    "**NOTE:** Some practices have multiple postal codes associated with them. Use the alphabetically first postal code. Note some postal codes may have multiple `'bnf_name'` with the same prescription rate for the maximum. In this case, take the alphabetically first `'bnf_name'` (as in the PW miniproject)."
   ]
  },
  {
   "cell_type": "code",
   "execution_count": 16,
   "metadata": {},
   "outputs": [
    {
     "data": {
      "text/html": [
       "<div>\n",
       "<style scoped>\n",
       "    .dataframe tbody tr th:only-of-type {\n",
       "        vertical-align: middle;\n",
       "    }\n",
       "\n",
       "    .dataframe tbody tr th {\n",
       "        vertical-align: top;\n",
       "    }\n",
       "\n",
       "    .dataframe thead th {\n",
       "        text-align: right;\n",
       "    }\n",
       "</style>\n",
       "<table border=\"1\" class=\"dataframe\">\n",
       "  <thead>\n",
       "    <tr style=\"text-align: right;\">\n",
       "      <th></th>\n",
       "      <th>code</th>\n",
       "      <th>name</th>\n",
       "      <th>addr_1</th>\n",
       "      <th>addr_2</th>\n",
       "      <th>borough</th>\n",
       "      <th>village</th>\n",
       "      <th>post_code</th>\n",
       "    </tr>\n",
       "  </thead>\n",
       "  <tbody>\n",
       "    <tr>\n",
       "      <th>0</th>\n",
       "      <td>A81001</td>\n",
       "      <td>THE DENSHAM SURGERY</td>\n",
       "      <td>THE HEALTH CENTRE</td>\n",
       "      <td>LAWSON STREET</td>\n",
       "      <td>STOCKTON ON TEES</td>\n",
       "      <td>CLEVELAND</td>\n",
       "      <td>TS18 1HU</td>\n",
       "    </tr>\n",
       "    <tr>\n",
       "      <th>1</th>\n",
       "      <td>A81002</td>\n",
       "      <td>QUEENS PARK MEDICAL CENTRE</td>\n",
       "      <td>QUEENS PARK MEDICAL CTR</td>\n",
       "      <td>FARRER STREET</td>\n",
       "      <td>STOCKTON ON TEES</td>\n",
       "      <td>CLEVELAND</td>\n",
       "      <td>TS18 2AW</td>\n",
       "    </tr>\n",
       "    <tr>\n",
       "      <th>2</th>\n",
       "      <td>A81003</td>\n",
       "      <td>VICTORIA MEDICAL PRACTICE</td>\n",
       "      <td>THE HEALTH CENTRE</td>\n",
       "      <td>VICTORIA ROAD</td>\n",
       "      <td>HARTLEPOOL</td>\n",
       "      <td>CLEVELAND</td>\n",
       "      <td>TS26 8DB</td>\n",
       "    </tr>\n",
       "    <tr>\n",
       "      <th>3</th>\n",
       "      <td>A81004</td>\n",
       "      <td>WOODLANDS ROAD SURGERY</td>\n",
       "      <td>6 WOODLANDS ROAD</td>\n",
       "      <td>NaN</td>\n",
       "      <td>MIDDLESBROUGH</td>\n",
       "      <td>CLEVELAND</td>\n",
       "      <td>TS1 3BE</td>\n",
       "    </tr>\n",
       "    <tr>\n",
       "      <th>4</th>\n",
       "      <td>A81005</td>\n",
       "      <td>SPRINGWOOD SURGERY</td>\n",
       "      <td>SPRINGWOOD SURGERY</td>\n",
       "      <td>RECTORY LANE</td>\n",
       "      <td>GUISBOROUGH</td>\n",
       "      <td>NaN</td>\n",
       "      <td>TS14 7DJ</td>\n",
       "    </tr>\n",
       "  </tbody>\n",
       "</table>\n",
       "</div>"
      ],
      "text/plain": [
       "     code                        name                   addr_1         addr_2  \\\n",
       "0  A81001         THE DENSHAM SURGERY        THE HEALTH CENTRE  LAWSON STREET   \n",
       "1  A81002  QUEENS PARK MEDICAL CENTRE  QUEENS PARK MEDICAL CTR  FARRER STREET   \n",
       "2  A81003   VICTORIA MEDICAL PRACTICE        THE HEALTH CENTRE  VICTORIA ROAD   \n",
       "3  A81004      WOODLANDS ROAD SURGERY         6 WOODLANDS ROAD            NaN   \n",
       "4  A81005          SPRINGWOOD SURGERY       SPRINGWOOD SURGERY   RECTORY LANE   \n",
       "\n",
       "            borough    village post_code  \n",
       "0  STOCKTON ON TEES  CLEVELAND  TS18 1HU  \n",
       "1  STOCKTON ON TEES  CLEVELAND  TS18 2AW  \n",
       "2        HARTLEPOOL  CLEVELAND  TS26 8DB  \n",
       "3     MIDDLESBROUGH  CLEVELAND   TS1 3BE  \n",
       "4       GUISBOROUGH        NaN  TS14 7DJ  "
      ]
     },
     "execution_count": 16,
     "metadata": {},
     "output_type": "execute_result"
    }
   ],
   "source": [
    "practices.head()"
   ]
  },
  {
   "cell_type": "code",
   "execution_count": 17,
   "metadata": {},
   "outputs": [
    {
     "data": {
      "text/plain": [
       "12020"
      ]
     },
     "execution_count": 17,
     "metadata": {},
     "output_type": "execute_result"
    }
   ],
   "source": [
    "practices['code'].count()"
   ]
  },
  {
   "cell_type": "code",
   "execution_count": 18,
   "metadata": {},
   "outputs": [
    {
     "data": {
      "text/plain": [
       "10843"
      ]
     },
     "execution_count": 18,
     "metadata": {},
     "output_type": "execute_result"
    }
   ],
   "source": [
    "practices['code'].nunique()"
   ]
  },
  {
   "cell_type": "code",
   "execution_count": 19,
   "metadata": {},
   "outputs": [],
   "source": [
    "# practices_unique = practices.sort_values('post_code').drop_duplicates(subset = 'code', keep = 'first')\n",
    "# practices_unique.head()"
   ]
  },
  {
   "cell_type": "code",
   "execution_count": 20,
   "metadata": {},
   "outputs": [],
   "source": [
    "practices_unique = practices.sort_values('post_code').groupby('code').first()\n",
    "# practices_unique.head()"
   ]
  },
  {
   "cell_type": "code",
   "execution_count": 21,
   "metadata": {},
   "outputs": [],
   "source": [
    "# script_post_inner = scripts.merge(practices_unique, left_on = 'practice', right_on = 'code')\n",
    "# script_post_inner.shape[0]"
   ]
  },
  {
   "cell_type": "code",
   "execution_count": 22,
   "metadata": {},
   "outputs": [
    {
     "data": {
      "text/plain": [
       "973193"
      ]
     },
     "execution_count": 22,
     "metadata": {},
     "output_type": "execute_result"
    }
   ],
   "source": [
    "script_post_left = scripts.merge(practices_unique, left_on = 'practice', right_on = 'code', how = 'left')\n",
    "script_post_left.shape[0]"
   ]
  },
  {
   "cell_type": "code",
   "execution_count": 23,
   "metadata": {},
   "outputs": [],
   "source": [
    "# np.all(script_post_left == script_post_inner)"
   ]
  },
  {
   "cell_type": "code",
   "execution_count": 24,
   "metadata": {},
   "outputs": [],
   "source": [
    "# script_post_left.head()"
   ]
  },
  {
   "cell_type": "code",
   "execution_count": 25,
   "metadata": {},
   "outputs": [],
   "source": [
    "total = script_post_left.groupby(['post_code', 'bnf_name'])['items'].sum().reset_index().sort_values('items', ascending = False)\n",
    "# total.head()"
   ]
  },
  {
   "cell_type": "code",
   "execution_count": 26,
   "metadata": {},
   "outputs": [],
   "source": [
    "postal_total = total.groupby('post_code')['items'].sum().rename('total').reset_index()\n",
    "# postal_total.head()"
   ]
  },
  {
   "cell_type": "code",
   "execution_count": 27,
   "metadata": {},
   "outputs": [
    {
     "data": {
      "text/html": [
       "<div>\n",
       "<style scoped>\n",
       "    .dataframe tbody tr th:only-of-type {\n",
       "        vertical-align: middle;\n",
       "    }\n",
       "\n",
       "    .dataframe tbody tr th {\n",
       "        vertical-align: top;\n",
       "    }\n",
       "\n",
       "    .dataframe thead th {\n",
       "        text-align: right;\n",
       "    }\n",
       "</style>\n",
       "<table border=\"1\" class=\"dataframe\">\n",
       "  <thead>\n",
       "    <tr style=\"text-align: right;\">\n",
       "      <th></th>\n",
       "      <th>post_code</th>\n",
       "      <th>bnf_name</th>\n",
       "      <th>items</th>\n",
       "      <th>total</th>\n",
       "    </tr>\n",
       "  </thead>\n",
       "  <tbody>\n",
       "    <tr>\n",
       "      <th>0</th>\n",
       "      <td>SK11 6JL</td>\n",
       "      <td>Omeprazole_Cap E/C 20mg</td>\n",
       "      <td>3219</td>\n",
       "      <td>112283</td>\n",
       "    </tr>\n",
       "    <tr>\n",
       "      <th>1</th>\n",
       "      <td>FY4 1TJ</td>\n",
       "      <td>Omeprazole_Cap E/C 20mg</td>\n",
       "      <td>2838</td>\n",
       "      <td>65475</td>\n",
       "    </tr>\n",
       "    <tr>\n",
       "      <th>2</th>\n",
       "      <td>FY2 0JG</td>\n",
       "      <td>Omeprazole_Cap E/C 20mg</td>\n",
       "      <td>2623</td>\n",
       "      <td>72306</td>\n",
       "    </tr>\n",
       "    <tr>\n",
       "      <th>3</th>\n",
       "      <td>PL7 1AD</td>\n",
       "      <td>Omeprazole_Cap E/C 20mg</td>\n",
       "      <td>2509</td>\n",
       "      <td>69105</td>\n",
       "    </tr>\n",
       "    <tr>\n",
       "      <th>4</th>\n",
       "      <td>N9 0TW</td>\n",
       "      <td>Influenza_Vac Inact 0.5ml Pfs</td>\n",
       "      <td>2384</td>\n",
       "      <td>33741</td>\n",
       "    </tr>\n",
       "  </tbody>\n",
       "</table>\n",
       "</div>"
      ],
      "text/plain": [
       "  post_code                       bnf_name  items   total\n",
       "0  SK11 6JL        Omeprazole_Cap E/C 20mg   3219  112283\n",
       "1   FY4 1TJ        Omeprazole_Cap E/C 20mg   2838   65475\n",
       "2   FY2 0JG        Omeprazole_Cap E/C 20mg   2623   72306\n",
       "3   PL7 1AD        Omeprazole_Cap E/C 20mg   2509   69105\n",
       "4    N9 0TW  Influenza_Vac Inact 0.5ml Pfs   2384   33741"
      ]
     },
     "execution_count": 27,
     "metadata": {},
     "output_type": "execute_result"
    }
   ],
   "source": [
    "# totals = total.set_index('post_code').assign(total = postal_total) #alternative\n",
    "totals = total.merge(postal_total, on = 'post_code', how = 'left')\n",
    "totals.head()"
   ]
  },
  {
   "cell_type": "code",
   "execution_count": 28,
   "metadata": {},
   "outputs": [
    {
     "data": {
      "text/html": [
       "<div>\n",
       "<style scoped>\n",
       "    .dataframe tbody tr th:only-of-type {\n",
       "        vertical-align: middle;\n",
       "    }\n",
       "\n",
       "    .dataframe tbody tr th {\n",
       "        vertical-align: top;\n",
       "    }\n",
       "\n",
       "    .dataframe thead th {\n",
       "        text-align: right;\n",
       "    }\n",
       "</style>\n",
       "<table border=\"1\" class=\"dataframe\">\n",
       "  <thead>\n",
       "    <tr style=\"text-align: right;\">\n",
       "      <th></th>\n",
       "      <th>post_code</th>\n",
       "      <th>bnf_name</th>\n",
       "      <th>items</th>\n",
       "      <th>total</th>\n",
       "      <th>rate</th>\n",
       "    </tr>\n",
       "  </thead>\n",
       "  <tbody>\n",
       "    <tr>\n",
       "      <th>0</th>\n",
       "      <td>SK11 6JL</td>\n",
       "      <td>Omeprazole_Cap E/C 20mg</td>\n",
       "      <td>3219</td>\n",
       "      <td>112283</td>\n",
       "      <td>0.028669</td>\n",
       "    </tr>\n",
       "    <tr>\n",
       "      <th>1</th>\n",
       "      <td>FY4 1TJ</td>\n",
       "      <td>Omeprazole_Cap E/C 20mg</td>\n",
       "      <td>2838</td>\n",
       "      <td>65475</td>\n",
       "      <td>0.043345</td>\n",
       "    </tr>\n",
       "    <tr>\n",
       "      <th>2</th>\n",
       "      <td>FY2 0JG</td>\n",
       "      <td>Omeprazole_Cap E/C 20mg</td>\n",
       "      <td>2623</td>\n",
       "      <td>72306</td>\n",
       "      <td>0.036276</td>\n",
       "    </tr>\n",
       "    <tr>\n",
       "      <th>3</th>\n",
       "      <td>PL7 1AD</td>\n",
       "      <td>Omeprazole_Cap E/C 20mg</td>\n",
       "      <td>2509</td>\n",
       "      <td>69105</td>\n",
       "      <td>0.036307</td>\n",
       "    </tr>\n",
       "    <tr>\n",
       "      <th>4</th>\n",
       "      <td>N9 0TW</td>\n",
       "      <td>Influenza_Vac Inact 0.5ml Pfs</td>\n",
       "      <td>2384</td>\n",
       "      <td>33741</td>\n",
       "      <td>0.070656</td>\n",
       "    </tr>\n",
       "  </tbody>\n",
       "</table>\n",
       "</div>"
      ],
      "text/plain": [
       "  post_code                       bnf_name  items   total      rate\n",
       "0  SK11 6JL        Omeprazole_Cap E/C 20mg   3219  112283  0.028669\n",
       "1   FY4 1TJ        Omeprazole_Cap E/C 20mg   2838   65475  0.043345\n",
       "2   FY2 0JG        Omeprazole_Cap E/C 20mg   2623   72306  0.036276\n",
       "3   PL7 1AD        Omeprazole_Cap E/C 20mg   2509   69105  0.036307\n",
       "4    N9 0TW  Influenza_Vac Inact 0.5ml Pfs   2384   33741  0.070656"
      ]
     },
     "execution_count": 28,
     "metadata": {},
     "output_type": "execute_result"
    }
   ],
   "source": [
    "totals['rate'] = totals['items']/totals['total']\n",
    "totals.head()"
   ]
  },
  {
   "cell_type": "code",
   "execution_count": 29,
   "metadata": {},
   "outputs": [],
   "source": [
    "# totals[totals['rate'] == totals['rate'].max()]"
   ]
  },
  {
   "cell_type": "code",
   "execution_count": 30,
   "metadata": {},
   "outputs": [],
   "source": [
    "# totals.sort_values('rate', ascending = False).iloc[0]"
   ]
  },
  {
   "cell_type": "code",
   "execution_count": 31,
   "metadata": {},
   "outputs": [],
   "source": [
    "# totals.nlargest(1, 'rate')\n",
    "# result.set_index?"
   ]
  },
  {
   "cell_type": "code",
   "execution_count": 32,
   "metadata": {},
   "outputs": [
    {
     "data": {
      "text/html": [
       "<div>\n",
       "<style scoped>\n",
       "    .dataframe tbody tr th:only-of-type {\n",
       "        vertical-align: middle;\n",
       "    }\n",
       "\n",
       "    .dataframe tbody tr th {\n",
       "        vertical-align: top;\n",
       "    }\n",
       "\n",
       "    .dataframe thead th {\n",
       "        text-align: right;\n",
       "    }\n",
       "</style>\n",
       "<table border=\"1\" class=\"dataframe\">\n",
       "  <thead>\n",
       "    <tr style=\"text-align: right;\">\n",
       "      <th></th>\n",
       "      <th></th>\n",
       "      <th>post_code</th>\n",
       "      <th>bnf_name</th>\n",
       "      <th>items</th>\n",
       "      <th>total</th>\n",
       "      <th>rate</th>\n",
       "    </tr>\n",
       "    <tr>\n",
       "      <th>post_code</th>\n",
       "      <th></th>\n",
       "      <th></th>\n",
       "      <th></th>\n",
       "      <th></th>\n",
       "      <th></th>\n",
       "      <th></th>\n",
       "    </tr>\n",
       "  </thead>\n",
       "  <tbody>\n",
       "    <tr>\n",
       "      <th>B11 4BW</th>\n",
       "      <th>634</th>\n",
       "      <td>B11 4BW</td>\n",
       "      <td>Salbutamol_Inha 100mcg (200 D) CFF</td>\n",
       "      <td>706</td>\n",
       "      <td>22731</td>\n",
       "      <td>0.031059</td>\n",
       "    </tr>\n",
       "    <tr>\n",
       "      <th>B12 9LP</th>\n",
       "      <th>2214</th>\n",
       "      <td>B12 9LP</td>\n",
       "      <td>Paracet_Tab 500mg</td>\n",
       "      <td>425</td>\n",
       "      <td>17073</td>\n",
       "      <td>0.024893</td>\n",
       "    </tr>\n",
       "    <tr>\n",
       "      <th>B18 7AL</th>\n",
       "      <th>1154</th>\n",
       "      <td>B18 7AL</td>\n",
       "      <td>Salbutamol_Inha 100mcg (200 D) CFF</td>\n",
       "      <td>556</td>\n",
       "      <td>20508</td>\n",
       "      <td>0.027111</td>\n",
       "    </tr>\n",
       "    <tr>\n",
       "      <th>B21 9RY</th>\n",
       "      <th>185</th>\n",
       "      <td>B21 9RY</td>\n",
       "      <td>Metformin HCl_Tab 500mg</td>\n",
       "      <td>1033</td>\n",
       "      <td>31027</td>\n",
       "      <td>0.033294</td>\n",
       "    </tr>\n",
       "    <tr>\n",
       "      <th>B23 6DJ</th>\n",
       "      <th>957</th>\n",
       "      <td>B23 6DJ</td>\n",
       "      <td>Lansoprazole_Cap 30mg (E/C Gran)</td>\n",
       "      <td>599</td>\n",
       "      <td>28011</td>\n",
       "      <td>0.021384</td>\n",
       "    </tr>\n",
       "  </tbody>\n",
       "</table>\n",
       "</div>"
      ],
      "text/plain": [
       "               post_code                            bnf_name  items  total  \\\n",
       "post_code                                                                    \n",
       "B11 4BW   634    B11 4BW  Salbutamol_Inha 100mcg (200 D) CFF    706  22731   \n",
       "B12 9LP   2214   B12 9LP                   Paracet_Tab 500mg    425  17073   \n",
       "B18 7AL   1154   B18 7AL  Salbutamol_Inha 100mcg (200 D) CFF    556  20508   \n",
       "B21 9RY   185    B21 9RY             Metformin HCl_Tab 500mg   1033  31027   \n",
       "B23 6DJ   957    B23 6DJ    Lansoprazole_Cap 30mg (E/C Gran)    599  28011   \n",
       "\n",
       "                    rate  \n",
       "post_code                 \n",
       "B11 4BW   634   0.031059  \n",
       "B12 9LP   2214  0.024893  \n",
       "B18 7AL   1154  0.027111  \n",
       "B21 9RY   185   0.033294  \n",
       "B23 6DJ   957   0.021384  "
      ]
     },
     "execution_count": 32,
     "metadata": {},
     "output_type": "execute_result"
    }
   ],
   "source": [
    "result = totals.groupby('post_code').apply(lambda df: df.nlargest(1,'rate'))\n",
    "result.head()"
   ]
  },
  {
   "cell_type": "code",
   "execution_count": 33,
   "metadata": {},
   "outputs": [
    {
     "data": {
      "text/html": [
       "<div>\n",
       "<style scoped>\n",
       "    .dataframe tbody tr th:only-of-type {\n",
       "        vertical-align: middle;\n",
       "    }\n",
       "\n",
       "    .dataframe tbody tr th {\n",
       "        vertical-align: top;\n",
       "    }\n",
       "\n",
       "    .dataframe thead th {\n",
       "        text-align: right;\n",
       "    }\n",
       "</style>\n",
       "<table border=\"1\" class=\"dataframe\">\n",
       "  <thead>\n",
       "    <tr style=\"text-align: right;\">\n",
       "      <th></th>\n",
       "      <th>post_code</th>\n",
       "      <th>bnf_name</th>\n",
       "      <th>items</th>\n",
       "      <th>total</th>\n",
       "      <th>rate</th>\n",
       "    </tr>\n",
       "  </thead>\n",
       "  <tbody>\n",
       "    <tr>\n",
       "      <th>0</th>\n",
       "      <td>B11 4BW</td>\n",
       "      <td>Salbutamol_Inha 100mcg (200 D) CFF</td>\n",
       "      <td>706</td>\n",
       "      <td>22731</td>\n",
       "      <td>0.031059</td>\n",
       "    </tr>\n",
       "    <tr>\n",
       "      <th>1</th>\n",
       "      <td>B12 9LP</td>\n",
       "      <td>Paracet_Tab 500mg</td>\n",
       "      <td>425</td>\n",
       "      <td>17073</td>\n",
       "      <td>0.024893</td>\n",
       "    </tr>\n",
       "    <tr>\n",
       "      <th>2</th>\n",
       "      <td>B18 7AL</td>\n",
       "      <td>Salbutamol_Inha 100mcg (200 D) CFF</td>\n",
       "      <td>556</td>\n",
       "      <td>20508</td>\n",
       "      <td>0.027111</td>\n",
       "    </tr>\n",
       "    <tr>\n",
       "      <th>3</th>\n",
       "      <td>B21 9RY</td>\n",
       "      <td>Metformin HCl_Tab 500mg</td>\n",
       "      <td>1033</td>\n",
       "      <td>31027</td>\n",
       "      <td>0.033294</td>\n",
       "    </tr>\n",
       "    <tr>\n",
       "      <th>4</th>\n",
       "      <td>B23 6DJ</td>\n",
       "      <td>Lansoprazole_Cap 30mg (E/C Gran)</td>\n",
       "      <td>599</td>\n",
       "      <td>28011</td>\n",
       "      <td>0.021384</td>\n",
       "    </tr>\n",
       "  </tbody>\n",
       "</table>\n",
       "</div>"
      ],
      "text/plain": [
       "  post_code                            bnf_name  items  total      rate\n",
       "0   B11 4BW  Salbutamol_Inha 100mcg (200 D) CFF    706  22731  0.031059\n",
       "1   B12 9LP                   Paracet_Tab 500mg    425  17073  0.024893\n",
       "2   B18 7AL  Salbutamol_Inha 100mcg (200 D) CFF    556  20508  0.027111\n",
       "3   B21 9RY             Metformin HCl_Tab 500mg   1033  31027  0.033294\n",
       "4   B23 6DJ    Lansoprazole_Cap 30mg (E/C Gran)    599  28011  0.021384"
      ]
     },
     "execution_count": 33,
     "metadata": {},
     "output_type": "execute_result"
    }
   ],
   "source": [
    "results = result.reset_index(drop = True)\n",
    "results.head()"
   ]
  },
  {
   "cell_type": "code",
   "execution_count": 34,
   "metadata": {},
   "outputs": [],
   "source": [
    "results.drop(['items','total'], axis = 1, inplace = True)\n",
    "# results.head()\n",
    "items_by_region = results[:100]\n",
    "# items_by_region"
   ]
  },
  {
   "cell_type": "code",
   "execution_count": 35,
   "metadata": {},
   "outputs": [],
   "source": [
    "# items_by_region = [(\"B11 4BW\", \"Salbutamol_Inha 100mcg (200 D) CFF\", 0.0310589063)] * 100"
   ]
  },
  {
   "cell_type": "code",
   "execution_count": 36,
   "metadata": {},
   "outputs": [
    {
     "name": "stdout",
     "output_type": "stream",
     "text": [
      "==================\n",
      "Your score:  1.0\n",
      "==================\n"
     ]
    }
   ],
   "source": [
    "# grader.score.dw__items_by_region(items_by_region)"
   ]
  },
  {
   "cell_type": "markdown",
   "metadata": {},
   "source": [
    "## Question 4: script_anomalies\n",
    "\n",
    "Drug abuse is a source of human and monetary costs in health care. A first step in identifying practitioners that enable drug abuse is to look for practices where commonly abused drugs are prescribed unusually often. Let's try to find practices that prescribe an unusually high amount of opioids. The opioids we'll look for are given in the list below."
   ]
  },
  {
   "cell_type": "code",
   "execution_count": 37,
   "metadata": {},
   "outputs": [],
   "source": [
    "opioids = ['morphine', 'oxycodone', 'methadone', 'fentanyl', 'pethidine', 'buprenorphine', 'propoxyphene', 'codeine']"
   ]
  },
  {
   "cell_type": "markdown",
   "metadata": {},
   "source": [
    "These are generic names for drugs, not brand names. Generic drug names can be found using the `'bnf_code'` field in `scripts` along with the `chem` table.. Use the list of opioids provided above along with these fields to make a new field in the `scripts` data that flags whether the row corresponds with a opioid prescription."
   ]
  },
  {
   "cell_type": "code",
   "execution_count": 38,
   "metadata": {},
   "outputs": [],
   "source": [
    "chem = chem.sort_values('NAME').drop_duplicates(subset = 'CHEM SUB', keep = 'first')\n",
    "# chem.shape[0]\n",
    "# scripts.head()"
   ]
  },
  {
   "cell_type": "markdown",
   "metadata": {},
   "source": [
    "Now for each practice calculate the proportion of its prescriptions containing opioids.\n",
    "\n",
    "**Hint:** Consider the following list: `[0, 1, 1, 0, 0, 0]`. What proportion of the entries are 1s? What is the mean value?"
   ]
  },
  {
   "cell_type": "code",
   "execution_count": 39,
   "metadata": {},
   "outputs": [],
   "source": [
    "ind = chem['NAME'].apply(lambda x: any([opioid in x.lower() for opioid in opioids]))\n",
    "# chem[ind]"
   ]
  },
  {
   "cell_type": "code",
   "execution_count": 40,
   "metadata": {},
   "outputs": [],
   "source": [
    "my_opioids = '|'.join(opioids)\n",
    "# my_opioids"
   ]
  },
  {
   "cell_type": "code",
   "execution_count": 41,
   "metadata": {},
   "outputs": [
    {
     "data": {
      "text/html": [
       "<div>\n",
       "<style scoped>\n",
       "    .dataframe tbody tr th:only-of-type {\n",
       "        vertical-align: middle;\n",
       "    }\n",
       "\n",
       "    .dataframe tbody tr th {\n",
       "        vertical-align: top;\n",
       "    }\n",
       "\n",
       "    .dataframe thead th {\n",
       "        text-align: right;\n",
       "    }\n",
       "</style>\n",
       "<table border=\"1\" class=\"dataframe\">\n",
       "  <thead>\n",
       "    <tr style=\"text-align: right;\">\n",
       "      <th></th>\n",
       "      <th>CHEM SUB</th>\n",
       "      <th>NAME</th>\n",
       "      <th>is_opioid</th>\n",
       "    </tr>\n",
       "  </thead>\n",
       "  <tbody>\n",
       "    <tr>\n",
       "      <th>882</th>\n",
       "      <td>0403040M0</td>\n",
       "      <td>5-Hydroxytryptophan</td>\n",
       "      <td>False</td>\n",
       "    </tr>\n",
       "    <tr>\n",
       "      <th>2910</th>\n",
       "      <td>1305020M0</td>\n",
       "      <td>5-Methoxypsoralen</td>\n",
       "      <td>False</td>\n",
       "    </tr>\n",
       "    <tr>\n",
       "      <th>1359</th>\n",
       "      <td>0503010E0</td>\n",
       "      <td>Abacavir</td>\n",
       "      <td>False</td>\n",
       "    </tr>\n",
       "    <tr>\n",
       "      <th>1378</th>\n",
       "      <td>0503010Z0</td>\n",
       "      <td>Abacavir &amp; Lamivudine</td>\n",
       "      <td>False</td>\n",
       "    </tr>\n",
       "    <tr>\n",
       "      <th>1360</th>\n",
       "      <td>0503010F0</td>\n",
       "      <td>Abacavir/Lamivudine/Zidovudine</td>\n",
       "      <td>False</td>\n",
       "    </tr>\n",
       "  </tbody>\n",
       "</table>\n",
       "</div>"
      ],
      "text/plain": [
       "       CHEM SUB                            NAME  is_opioid\n",
       "882   0403040M0             5-Hydroxytryptophan      False\n",
       "2910  1305020M0               5-Methoxypsoralen      False\n",
       "1359  0503010E0                        Abacavir      False\n",
       "1378  0503010Z0           Abacavir & Lamivudine      False\n",
       "1360  0503010F0  Abacavir/Lamivudine/Zidovudine      False"
      ]
     },
     "execution_count": 41,
     "metadata": {},
     "output_type": "execute_result"
    }
   ],
   "source": [
    "chem['is_opioid'] = chem['NAME'].str.lower().str.contains(my_opioids)\n",
    "chem.head()"
   ]
  },
  {
   "cell_type": "code",
   "execution_count": 42,
   "metadata": {},
   "outputs": [],
   "source": [
    "script_w_chem = scripts.merge(chem, left_on='bnf_code', right_on='CHEM SUB', how = 'left').fillna(False)"
   ]
  },
  {
   "cell_type": "code",
   "execution_count": 43,
   "metadata": {},
   "outputs": [],
   "source": [
    "# script_w_chem.head()\n",
    "# script_w_chem['is_opioid'].isna().sum()"
   ]
  },
  {
   "cell_type": "code",
   "execution_count": 44,
   "metadata": {},
   "outputs": [],
   "source": [
    "# script_w_chem[script_w_chem['is_opioid'].isna()]"
   ]
  },
  {
   "cell_type": "code",
   "execution_count": 45,
   "metadata": {},
   "outputs": [
    {
     "data": {
      "text/plain": [
       "practice\n",
       "A81005    0.033179\n",
       "A81007    0.043329\n",
       "A81011    0.046556\n",
       "A81012    0.042793\n",
       "A81017    0.038140\n",
       "Name: is_opioid, dtype: float64"
      ]
     },
     "execution_count": 45,
     "metadata": {},
     "output_type": "execute_result"
    }
   ],
   "source": [
    "opioids_per_practice = script_w_chem.groupby('practice')['is_opioid'].mean()\n",
    "opioids_per_practice.head()"
   ]
  },
  {
   "cell_type": "markdown",
   "metadata": {},
   "source": [
    "How do these proportions compare to the overall opioid prescription rate? Subtract off the proportion of all prescriptions that are opioids from each practice's proportion."
   ]
  },
  {
   "cell_type": "code",
   "execution_count": 46,
   "metadata": {},
   "outputs": [],
   "source": [
    "relative_opioids_per_practice = opioids_per_practice - script_w_chem['is_opioid'].mean()\n",
    "# relative_opioids_per_practice.reset_index().head()"
   ]
  },
  {
   "cell_type": "markdown",
   "metadata": {},
   "source": [
    "Now that we know the difference between each practice's opioid prescription rate and the overall rate, we can identify which practices prescribe opioids at above average or below average rates. However, are the differences from the overall rate important or just random deviations? In other words, are the differences from the overall rate big or small?\n",
    "\n",
    "To answer this question we have to quantify the difference we would typically expect between a given practice's opioid prescription rate and the overall rate. This quantity is called the **standard error**, and is related to the **standard deviation**, $\\sigma$. The standard error in this case is\n",
    "\n",
    "$$ \\frac{\\sigma}{\\sqrt{n}} $$\n",
    "\n",
    "where $n$ is the number of prescriptions each practice made. Calculate the standard error for each practice. Then divide `relative_opioids_per_practice` by the standard errors. We'll call the final result `opioid_scores`."
   ]
  },
  {
   "cell_type": "code",
   "execution_count": 47,
   "metadata": {},
   "outputs": [],
   "source": [
    "# count_per_practice = script_w_chem.groupby('practice')['is_opioid'].count()\n",
    "count_per_practice = script_w_chem['practice'].value_counts()\n",
    "# count_per_practice"
   ]
  },
  {
   "cell_type": "code",
   "execution_count": 48,
   "metadata": {},
   "outputs": [
    {
     "data": {
      "text/plain": [
       "0.18579817605238425"
      ]
     },
     "execution_count": 48,
     "metadata": {},
     "output_type": "execute_result"
    }
   ],
   "source": [
    "sigma = script_w_chem['is_opioid'].std()\n",
    "sigma"
   ]
  },
  {
   "cell_type": "code",
   "execution_count": 49,
   "metadata": {},
   "outputs": [],
   "source": [
    "standard_error_per_practice = sigma/(count_per_practice**0.5)\n",
    "# standard_error_per_practice"
   ]
  },
  {
   "cell_type": "code",
   "execution_count": 50,
   "metadata": {},
   "outputs": [],
   "source": [
    "opioid_scores = relative_opioids_per_practice/standard_error_per_practice\n",
    "# opioid_scores.reset_index().head()"
   ]
  },
  {
   "cell_type": "markdown",
   "metadata": {},
   "source": [
    "The quantity we have calculated in `opioid_scores` is called a **z-score**:\n",
    "\n",
    "$$ \\frac{\\bar{X} - \\mu}{\\sqrt{\\sigma^2/n}} $$\n",
    "\n",
    "Here $\\bar{X}$ corresponds with the proportion for each practice, $\\mu$ corresponds with the proportion across all practices, $\\sigma^2$ corresponds with the variance of the proportion across all practices, and $n$ is the number of prescriptions made by each practice. Notice $\\bar{X}$ and $n$ will be different for each practice, while $\\mu$ and $\\sigma$ are determined across all prescriptions, and so are the same for every z-score. The z-score is a useful statistical tool used for hypothesis testing, finding outliers, and comparing data about different types of objects or events.\n",
    "\n",
    "Now that we've calculated this statistic, take the 100 practices with the largest z-score. Return your result as a list of tuples in the form `(practice_name, z-score, number_of_scripts)`. Sort your tuples by z-score in descending order. Note that some practice codes will correspond with multiple names. In this case, use the first match when sorting names alphabetically."
   ]
  },
  {
   "cell_type": "code",
   "execution_count": 122,
   "metadata": {},
   "outputs": [],
   "source": [
    "unique_practices = practices.sort_values('name').drop_duplicates(subset='code', keep = 'first')\n",
    "unique_practices = unique_practices.set_index('code')\n"
   ]
  },
  {
   "cell_type": "code",
   "execution_count": 123,
   "metadata": {},
   "outputs": [
    {
     "data": {
      "text/html": [
       "<div>\n",
       "<style scoped>\n",
       "    .dataframe tbody tr th:only-of-type {\n",
       "        vertical-align: middle;\n",
       "    }\n",
       "\n",
       "    .dataframe tbody tr th {\n",
       "        vertical-align: top;\n",
       "    }\n",
       "\n",
       "    .dataframe thead th {\n",
       "        text-align: right;\n",
       "    }\n",
       "</style>\n",
       "<table border=\"1\" class=\"dataframe\">\n",
       "  <thead>\n",
       "    <tr style=\"text-align: right;\">\n",
       "      <th></th>\n",
       "      <th>name</th>\n",
       "      <th>addr_1</th>\n",
       "      <th>addr_2</th>\n",
       "      <th>borough</th>\n",
       "      <th>village</th>\n",
       "      <th>post_code</th>\n",
       "      <th>z_score</th>\n",
       "      <th>counts</th>\n",
       "    </tr>\n",
       "    <tr>\n",
       "      <th>code</th>\n",
       "      <th></th>\n",
       "      <th></th>\n",
       "      <th></th>\n",
       "      <th></th>\n",
       "      <th></th>\n",
       "      <th></th>\n",
       "      <th></th>\n",
       "      <th></th>\n",
       "    </tr>\n",
       "  </thead>\n",
       "  <tbody>\n",
       "    <tr>\n",
       "      <th>P87657</th>\n",
       "      <td>(IRLAM) SALFORD CARE CTRS MEDICAL PRACTI</td>\n",
       "      <td>SALFORD CARE CTR(IRLAM)</td>\n",
       "      <td>125 LIVERPOOL ROAD</td>\n",
       "      <td>IRLAM</td>\n",
       "      <td>MANCHESTER</td>\n",
       "      <td>M44 6DP</td>\n",
       "      <td>NaN</td>\n",
       "      <td>NaN</td>\n",
       "    </tr>\n",
       "    <tr>\n",
       "      <th>Y05381</th>\n",
       "      <td>0-19 EAST CHESHIRE HEALTH VISITORS</td>\n",
       "      <td>SALINAE CLINIC</td>\n",
       "      <td>LEWIN STREET</td>\n",
       "      <td>MIDDLEWICH</td>\n",
       "      <td>CHESHIRE</td>\n",
       "      <td>CW10 9FG</td>\n",
       "      <td>NaN</td>\n",
       "      <td>NaN</td>\n",
       "    </tr>\n",
       "    <tr>\n",
       "      <th>Y04082</th>\n",
       "      <td>0-19 PUBLIC HEALTH SERVICE HARTLEPOOL</td>\n",
       "      <td>CHATHAM CHILDRENS CENTRE</td>\n",
       "      <td>29 CHATHAM ROAD</td>\n",
       "      <td>HARTLEPOOL</td>\n",
       "      <td>NaN</td>\n",
       "      <td>TS24 8QG</td>\n",
       "      <td>NaN</td>\n",
       "      <td>NaN</td>\n",
       "    </tr>\n",
       "    <tr>\n",
       "      <th>Y00364</th>\n",
       "      <td>1 TO 1 CENTRE</td>\n",
       "      <td>BRENKLEY AVENUE</td>\n",
       "      <td>SHIREMOOR</td>\n",
       "      <td>NEWCASTLE UPON TYNE</td>\n",
       "      <td>NaN</td>\n",
       "      <td>NE27 0PR</td>\n",
       "      <td>NaN</td>\n",
       "      <td>NaN</td>\n",
       "    </tr>\n",
       "    <tr>\n",
       "      <th>P87652</th>\n",
       "      <td>1/LOWER BROUGHTON MEDICAL PRACTICE</td>\n",
       "      <td>LOWER BROUGHTON HTH.CTR.</td>\n",
       "      <td>GREAT CLOWES STREET</td>\n",
       "      <td>SALFORD</td>\n",
       "      <td>NaN</td>\n",
       "      <td>M7 1RD</td>\n",
       "      <td>2.435637</td>\n",
       "      <td>1044.0</td>\n",
       "    </tr>\n",
       "  </tbody>\n",
       "</table>\n",
       "</div>"
      ],
      "text/plain": [
       "                                            name                    addr_1  \\\n",
       "code                                                                         \n",
       "P87657  (IRLAM) SALFORD CARE CTRS MEDICAL PRACTI   SALFORD CARE CTR(IRLAM)   \n",
       "Y05381        0-19 EAST CHESHIRE HEALTH VISITORS            SALINAE CLINIC   \n",
       "Y04082     0-19 PUBLIC HEALTH SERVICE HARTLEPOOL  CHATHAM CHILDRENS CENTRE   \n",
       "Y00364                             1 TO 1 CENTRE           BRENKLEY AVENUE   \n",
       "P87652        1/LOWER BROUGHTON MEDICAL PRACTICE  LOWER BROUGHTON HTH.CTR.   \n",
       "\n",
       "                     addr_2              borough     village post_code  \\\n",
       "code                                                                     \n",
       "P87657   125 LIVERPOOL ROAD                IRLAM  MANCHESTER   M44 6DP   \n",
       "Y05381         LEWIN STREET           MIDDLEWICH    CHESHIRE  CW10 9FG   \n",
       "Y04082      29 CHATHAM ROAD           HARTLEPOOL         NaN  TS24 8QG   \n",
       "Y00364            SHIREMOOR  NEWCASTLE UPON TYNE         NaN  NE27 0PR   \n",
       "P87652  GREAT CLOWES STREET              SALFORD         NaN    M7 1RD   \n",
       "\n",
       "         z_score  counts  \n",
       "code                      \n",
       "P87657       NaN     NaN  \n",
       "Y05381       NaN     NaN  \n",
       "Y04082       NaN     NaN  \n",
       "Y00364       NaN     NaN  \n",
       "P87652  2.435637  1044.0  "
      ]
     },
     "execution_count": 123,
     "metadata": {},
     "output_type": "execute_result"
    }
   ],
   "source": [
    "unique_practices['z_score'] = opioid_scores\n",
    "unique_practices['counts'] = count_per_practice\n",
    "unique_practices.head()"
   ]
  },
  {
   "cell_type": "code",
   "execution_count": 53,
   "metadata": {},
   "outputs": [
    {
     "data": {
      "text/html": [
       "<div>\n",
       "<style scoped>\n",
       "    .dataframe tbody tr th:only-of-type {\n",
       "        vertical-align: middle;\n",
       "    }\n",
       "\n",
       "    .dataframe tbody tr th {\n",
       "        vertical-align: top;\n",
       "    }\n",
       "\n",
       "    .dataframe thead th {\n",
       "        text-align: right;\n",
       "    }\n",
       "</style>\n",
       "<table border=\"1\" class=\"dataframe\">\n",
       "  <thead>\n",
       "    <tr style=\"text-align: right;\">\n",
       "      <th></th>\n",
       "      <th>name</th>\n",
       "      <th>z_score</th>\n",
       "      <th>counts</th>\n",
       "    </tr>\n",
       "    <tr>\n",
       "      <th>code</th>\n",
       "      <th></th>\n",
       "      <th></th>\n",
       "      <th></th>\n",
       "    </tr>\n",
       "  </thead>\n",
       "  <tbody>\n",
       "    <tr>\n",
       "      <th>Y01852</th>\n",
       "      <td>NATIONAL ENHANCED SERVICE</td>\n",
       "      <td>11.695818</td>\n",
       "      <td>7.0</td>\n",
       "    </tr>\n",
       "    <tr>\n",
       "      <th>Y03006</th>\n",
       "      <td>OUTREACH SERVICE NH / RH</td>\n",
       "      <td>7.339043</td>\n",
       "      <td>2.0</td>\n",
       "    </tr>\n",
       "    <tr>\n",
       "      <th>Y03668</th>\n",
       "      <td>BRISDOC HEALTHCARE SERVICES OOH</td>\n",
       "      <td>6.150582</td>\n",
       "      <td>60.0</td>\n",
       "    </tr>\n",
       "    <tr>\n",
       "      <th>G81703</th>\n",
       "      <td>H&amp;R P C SPECIAL SCHEME</td>\n",
       "      <td>5.123032</td>\n",
       "      <td>36.0</td>\n",
       "    </tr>\n",
       "    <tr>\n",
       "      <th>Y04997</th>\n",
       "      <td>HMR BARDOC OOH</td>\n",
       "      <td>4.958866</td>\n",
       "      <td>321.0</td>\n",
       "    </tr>\n",
       "  </tbody>\n",
       "</table>\n",
       "</div>"
      ],
      "text/plain": [
       "                                   name    z_score  counts\n",
       "code                                                      \n",
       "Y01852        NATIONAL ENHANCED SERVICE  11.695818     7.0\n",
       "Y03006         OUTREACH SERVICE NH / RH   7.339043     2.0\n",
       "Y03668  BRISDOC HEALTHCARE SERVICES OOH   6.150582    60.0\n",
       "G81703           H&R P C SPECIAL SCHEME   5.123032    36.0\n",
       "Y04997                   HMR BARDOC OOH   4.958866   321.0"
      ]
     },
     "execution_count": 53,
     "metadata": {},
     "output_type": "execute_result"
    }
   ],
   "source": [
    "# anomalies = [(\"NATIONAL ENHANCED SERVICE\", 11.6958178629, 7)] * 100\n",
    "anomalies = unique_practices[['name', 'z_score', 'counts']].sort_values('z_score', ascending = False)\n",
    "anomalies.head()"
   ]
  },
  {
   "cell_type": "code",
   "execution_count": 112,
   "metadata": {},
   "outputs": [
    {
     "name": "stdout",
     "output_type": "stream",
     "text": [
      "==================\n",
      "Your score:  1.0\n",
      "==================\n"
     ]
    }
   ],
   "source": [
    "grader.score.dw__script_anomalies(anomalies.head(100))"
   ]
  },
  {
   "cell_type": "markdown",
   "metadata": {},
   "source": [
    "## Question 5: script_growth\n",
    "\n",
    "Another way to identify anomalies is by comparing current data to historical data. In the case of identifying sites of drug abuse, we might compare a practice's current rate of opioid prescription to their rate 5 or 10 years ago. Unless the nature of the practice has changed, the profile of drugs they prescribe should be relatively stable. We might also want to identify trends through time for business reasons, identifying drugs that are gaining market share. That's what we'll do in this question.\n",
    "\n",
    "We'll load in beneficiary data from 6 months earlier, June 2016, and calculate the percent growth in prescription rate from June 2016 to January 2017 for each `bnf_name`. We'll return the 50 items with largest growth and the 50 items with the largest shrinkage (i.e. negative percent growth) as a list of tuples sorted by growth rate in descending order in the format `(script_name, growth_rate, raw_2016_count)`. You'll notice that many of the 50 fastest growing items have low counts of prescriptions in 2016. Filter out any items that were prescribed less than 50 times."
   ]
  },
  {
   "cell_type": "code",
   "execution_count": 55,
   "metadata": {},
   "outputs": [
    {
     "data": {
      "text/html": [
       "<div>\n",
       "<style scoped>\n",
       "    .dataframe tbody tr th:only-of-type {\n",
       "        vertical-align: middle;\n",
       "    }\n",
       "\n",
       "    .dataframe tbody tr th {\n",
       "        vertical-align: top;\n",
       "    }\n",
       "\n",
       "    .dataframe thead th {\n",
       "        text-align: right;\n",
       "    }\n",
       "</style>\n",
       "<table border=\"1\" class=\"dataframe\">\n",
       "  <thead>\n",
       "    <tr style=\"text-align: right;\">\n",
       "      <th></th>\n",
       "      <th>practice</th>\n",
       "      <th>bnf_code</th>\n",
       "      <th>bnf_name</th>\n",
       "      <th>items</th>\n",
       "      <th>nic</th>\n",
       "      <th>act_cost</th>\n",
       "      <th>quantity</th>\n",
       "    </tr>\n",
       "  </thead>\n",
       "  <tbody>\n",
       "    <tr>\n",
       "      <th>0</th>\n",
       "      <td>N85638</td>\n",
       "      <td>0301011R0</td>\n",
       "      <td>Salamol_Inha 100mcg (200 D) CFF (Teva)</td>\n",
       "      <td>2</td>\n",
       "      <td>2.92</td>\n",
       "      <td>2.73</td>\n",
       "      <td>2</td>\n",
       "    </tr>\n",
       "    <tr>\n",
       "      <th>1</th>\n",
       "      <td>N85638</td>\n",
       "      <td>0301011R0</td>\n",
       "      <td>Easyhaler_Salbutamol Sulf 200mcg (200D)</td>\n",
       "      <td>1</td>\n",
       "      <td>6.63</td>\n",
       "      <td>6.15</td>\n",
       "      <td>1</td>\n",
       "    </tr>\n",
       "    <tr>\n",
       "      <th>2</th>\n",
       "      <td>N85638</td>\n",
       "      <td>0301020I0</td>\n",
       "      <td>Ipratrop Brom_Inh Soln 500mcg/2ml Ud</td>\n",
       "      <td>1</td>\n",
       "      <td>1.77</td>\n",
       "      <td>1.75</td>\n",
       "      <td>12</td>\n",
       "    </tr>\n",
       "    <tr>\n",
       "      <th>3</th>\n",
       "      <td>N85638</td>\n",
       "      <td>0301020I0</td>\n",
       "      <td>Ipratrop Brom_Inh Soln 250mcg/1ml Ud</td>\n",
       "      <td>1</td>\n",
       "      <td>4.47</td>\n",
       "      <td>4.15</td>\n",
       "      <td>20</td>\n",
       "    </tr>\n",
       "    <tr>\n",
       "      <th>4</th>\n",
       "      <td>N85638</td>\n",
       "      <td>0302000C0</td>\n",
       "      <td>Clenil Modulite_Inha 50mcg (200D)</td>\n",
       "      <td>1</td>\n",
       "      <td>3.70</td>\n",
       "      <td>3.44</td>\n",
       "      <td>1</td>\n",
       "    </tr>\n",
       "  </tbody>\n",
       "</table>\n",
       "</div>"
      ],
      "text/plain": [
       "  practice   bnf_code                                 bnf_name  items   nic  \\\n",
       "0   N85638  0301011R0   Salamol_Inha 100mcg (200 D) CFF (Teva)      2  2.92   \n",
       "1   N85638  0301011R0  Easyhaler_Salbutamol Sulf 200mcg (200D)      1  6.63   \n",
       "2   N85638  0301020I0     Ipratrop Brom_Inh Soln 500mcg/2ml Ud      1  1.77   \n",
       "3   N85638  0301020I0     Ipratrop Brom_Inh Soln 250mcg/1ml Ud      1  4.47   \n",
       "4   N85638  0302000C0        Clenil Modulite_Inha 50mcg (200D)      1  3.70   \n",
       "\n",
       "   act_cost  quantity  \n",
       "0      2.73         2  \n",
       "1      6.15         1  \n",
       "2      1.75        12  \n",
       "3      4.15        20  \n",
       "4      3.44         1  "
      ]
     },
     "execution_count": 55,
     "metadata": {},
     "output_type": "execute_result"
    }
   ],
   "source": [
    "script16.head()"
   ]
  },
  {
   "cell_type": "code",
   "execution_count": 56,
   "metadata": {},
   "outputs": [
    {
     "data": {
      "text/html": [
       "<div>\n",
       "<style scoped>\n",
       "    .dataframe tbody tr th:only-of-type {\n",
       "        vertical-align: middle;\n",
       "    }\n",
       "\n",
       "    .dataframe tbody tr th {\n",
       "        vertical-align: top;\n",
       "    }\n",
       "\n",
       "    .dataframe thead th {\n",
       "        text-align: right;\n",
       "    }\n",
       "</style>\n",
       "<table border=\"1\" class=\"dataframe\">\n",
       "  <thead>\n",
       "    <tr style=\"text-align: right;\">\n",
       "      <th></th>\n",
       "      <th>practice</th>\n",
       "      <th>bnf_code</th>\n",
       "      <th>bnf_name</th>\n",
       "      <th>items</th>\n",
       "      <th>nic</th>\n",
       "      <th>act_cost</th>\n",
       "      <th>quantity</th>\n",
       "    </tr>\n",
       "  </thead>\n",
       "  <tbody>\n",
       "    <tr>\n",
       "      <th>0</th>\n",
       "      <td>N85639</td>\n",
       "      <td>0106020C0</td>\n",
       "      <td>Bisacodyl_Tab E/C 5mg</td>\n",
       "      <td>1</td>\n",
       "      <td>0.39</td>\n",
       "      <td>0.47</td>\n",
       "      <td>12</td>\n",
       "    </tr>\n",
       "    <tr>\n",
       "      <th>1</th>\n",
       "      <td>N85639</td>\n",
       "      <td>0106040M0</td>\n",
       "      <td>Movicol Plain_Paed Pdr Sach 6.9g</td>\n",
       "      <td>1</td>\n",
       "      <td>4.38</td>\n",
       "      <td>4.07</td>\n",
       "      <td>30</td>\n",
       "    </tr>\n",
       "    <tr>\n",
       "      <th>2</th>\n",
       "      <td>N85639</td>\n",
       "      <td>0301011R0</td>\n",
       "      <td>Salbutamol_Inha 100mcg (200 D) CFF</td>\n",
       "      <td>1</td>\n",
       "      <td>1.50</td>\n",
       "      <td>1.40</td>\n",
       "      <td>1</td>\n",
       "    </tr>\n",
       "    <tr>\n",
       "      <th>3</th>\n",
       "      <td>N85639</td>\n",
       "      <td>0304010G0</td>\n",
       "      <td>Chlorphenamine Mal_Oral Soln 2mg/5ml</td>\n",
       "      <td>1</td>\n",
       "      <td>2.62</td>\n",
       "      <td>2.44</td>\n",
       "      <td>150</td>\n",
       "    </tr>\n",
       "    <tr>\n",
       "      <th>4</th>\n",
       "      <td>N85639</td>\n",
       "      <td>0401020K0</td>\n",
       "      <td>Diazepam_Tab 2mg</td>\n",
       "      <td>1</td>\n",
       "      <td>0.16</td>\n",
       "      <td>0.26</td>\n",
       "      <td>6</td>\n",
       "    </tr>\n",
       "  </tbody>\n",
       "</table>\n",
       "</div>"
      ],
      "text/plain": [
       "  practice   bnf_code                              bnf_name  items   nic  \\\n",
       "0   N85639  0106020C0                 Bisacodyl_Tab E/C 5mg      1  0.39   \n",
       "1   N85639  0106040M0      Movicol Plain_Paed Pdr Sach 6.9g      1  4.38   \n",
       "2   N85639  0301011R0    Salbutamol_Inha 100mcg (200 D) CFF      1  1.50   \n",
       "3   N85639  0304010G0  Chlorphenamine Mal_Oral Soln 2mg/5ml      1  2.62   \n",
       "4   N85639  0401020K0                      Diazepam_Tab 2mg      1  0.16   \n",
       "\n",
       "   act_cost  quantity  \n",
       "0      0.47        12  \n",
       "1      4.07        30  \n",
       "2      1.40         1  \n",
       "3      2.44       150  \n",
       "4      0.26         6  "
      ]
     },
     "execution_count": 56,
     "metadata": {},
     "output_type": "execute_result"
    }
   ],
   "source": [
    "scripts.head()"
   ]
  },
  {
   "cell_type": "code",
   "execution_count": 57,
   "metadata": {},
   "outputs": [
    {
     "data": {
      "text/plain": [
       "bnf_name\n",
       "365 Film 15cm x 20cm VP Adh Film Dress      1\n",
       "365 Film 4cm x 5cm VP Adh Film Dress        1\n",
       "365 Non Adherent 10cm x 10cm Pfa Plas Fa    3\n",
       "365 Non Woven Island 10cm x 10cm Adh Dre    1\n",
       "365 Non Woven Island 10cm x 15cm Adh Dre    1\n",
       "                                           ..\n",
       "nSpire PiKo-1 Stnd Range Peak Flow Meter    2\n",
       "nSpire Pocket Peak Low Range Peak Flow M    2\n",
       "nSpire Pocket Peak Stnd Range Peak Flow     2\n",
       "oraNurse_Toothpaste Orig (1450ppm)          2\n",
       "palmdoc (Reagent)_Strips                    3\n",
       "Name: items, Length: 13540, dtype: int64"
      ]
     },
     "execution_count": 57,
     "metadata": {},
     "output_type": "execute_result"
    }
   ],
   "source": [
    "script16.groupby('bnf_name')['items'].count()"
   ]
  },
  {
   "cell_type": "code",
   "execution_count": 58,
   "metadata": {},
   "outputs": [],
   "source": [
    "growth = (scripts['bnf_name'].value_counts() / script16['bnf_name'].value_counts()) - 1"
   ]
  },
  {
   "cell_type": "code",
   "execution_count": 59,
   "metadata": {},
   "outputs": [],
   "source": [
    "growth = growth.rename('percent_growth')"
   ]
  },
  {
   "cell_type": "code",
   "execution_count": 60,
   "metadata": {},
   "outputs": [
    {
     "data": {
      "text/html": [
       "<div>\n",
       "<style scoped>\n",
       "    .dataframe tbody tr th:only-of-type {\n",
       "        vertical-align: middle;\n",
       "    }\n",
       "\n",
       "    .dataframe tbody tr th {\n",
       "        vertical-align: top;\n",
       "    }\n",
       "\n",
       "    .dataframe thead th {\n",
       "        text-align: right;\n",
       "    }\n",
       "</style>\n",
       "<table border=\"1\" class=\"dataframe\">\n",
       "  <thead>\n",
       "    <tr style=\"text-align: right;\">\n",
       "      <th></th>\n",
       "      <th>percent_growth</th>\n",
       "      <th>raw_counts</th>\n",
       "    </tr>\n",
       "  </thead>\n",
       "  <tbody>\n",
       "    <tr>\n",
       "      <th>365 Film 10cm x 12cm VP Adh Film Dress</th>\n",
       "      <td>NaN</td>\n",
       "      <td>NaN</td>\n",
       "    </tr>\n",
       "    <tr>\n",
       "      <th>365 Film 15cm x 20cm VP Adh Film Dress</th>\n",
       "      <td>NaN</td>\n",
       "      <td>1.0</td>\n",
       "    </tr>\n",
       "    <tr>\n",
       "      <th>365 Film 4cm x 5cm VP Adh Film Dress</th>\n",
       "      <td>NaN</td>\n",
       "      <td>1.0</td>\n",
       "    </tr>\n",
       "    <tr>\n",
       "      <th>365 Non Adherent 10cm x 10cm Pfa Plas Fa</th>\n",
       "      <td>0.0</td>\n",
       "      <td>3.0</td>\n",
       "    </tr>\n",
       "    <tr>\n",
       "      <th>365 Non Adherent 10cm x 20cm Pfa Plas Fa</th>\n",
       "      <td>NaN</td>\n",
       "      <td>NaN</td>\n",
       "    </tr>\n",
       "  </tbody>\n",
       "</table>\n",
       "</div>"
      ],
      "text/plain": [
       "                                          percent_growth  raw_counts\n",
       "365 Film 10cm x 12cm VP Adh Film Dress               NaN         NaN\n",
       "365 Film 15cm x 20cm VP Adh Film Dress               NaN         1.0\n",
       "365 Film 4cm x 5cm VP Adh Film Dress                 NaN         1.0\n",
       "365 Non Adherent 10cm x 10cm Pfa Plas Fa             0.0         3.0\n",
       "365 Non Adherent 10cm x 20cm Pfa Plas Fa             NaN         NaN"
      ]
     },
     "execution_count": 60,
     "metadata": {},
     "output_type": "execute_result"
    }
   ],
   "source": [
    "growth_df = growth.to_frame()\n",
    "growth_df['raw_counts'] = script16['bnf_name'].value_counts()\n",
    "growth_df.head()"
   ]
  },
  {
   "cell_type": "code",
   "execution_count": 61,
   "metadata": {},
   "outputs": [],
   "source": [
    "# growth_df[growth_df['raw_counts']>= 50]"
   ]
  },
  {
   "cell_type": "code",
   "execution_count": 62,
   "metadata": {},
   "outputs": [],
   "source": [
    "growth_df = (growth_df.query('raw_counts >= 50')\n",
    "             .dropna().reset_index()\n",
    "             .rename({'index':'bnf_name'}, axis=1)\n",
    "             .sort_values('percent_growth'))\n",
    "# growth_df"
   ]
  },
  {
   "cell_type": "code",
   "execution_count": 63,
   "metadata": {},
   "outputs": [],
   "source": [
    "df_growth = (growth\n",
    "             .rename('percent_growth')\n",
    "             .to_frame()\n",
    "             .assign(raw_counts = script16['bnf_name'].value_counts())\n",
    "             .query('raw_counts >= 50')\n",
    "             .reset_index()\n",
    "             .rename({'index':'bnf_name'}, axis=1)\n",
    "             .sort_values('percent_growth', ascending = False)\n",
    "             .dropna())\n",
    "# df_growth.head()"
   ]
  },
  {
   "cell_type": "code",
   "execution_count": 64,
   "metadata": {},
   "outputs": [],
   "source": [
    "# df_growth.tail(50)"
   ]
  },
  {
   "cell_type": "code",
   "execution_count": 65,
   "metadata": {},
   "outputs": [],
   "source": [
    "script_growth = pd.concat([df_growth.head(50), df_growth.tail(50)])\n",
    "# script_growth"
   ]
  },
  {
   "cell_type": "code",
   "execution_count": 66,
   "metadata": {},
   "outputs": [],
   "source": [
    "# script_growth = [(\"Butec_Transdermal Patch 5mcg\\/hr\", 3.4677419355, 62.0)] * 100"
   ]
  },
  {
   "cell_type": "code",
   "execution_count": 67,
   "metadata": {},
   "outputs": [
    {
     "name": "stdout",
     "output_type": "stream",
     "text": [
      "==================\n",
      "Error!\n",
      "You have been rate limited for exceeding the limit of 3 per 1 minute.\n",
      "Please slow down your submission rate.\n",
      "==================\n"
     ]
    }
   ],
   "source": [
    "grader.score.dw__script_growth(script_growth)"
   ]
  },
  {
   "cell_type": "markdown",
   "metadata": {},
   "source": [
    "## Question 6: rare_scripts\n",
    "\n",
    "Does a practice's prescription costs originate from routine care or from reliance on rarely prescribed treatments? Commonplace treatments can carry lower costs than rare treatments because of efficiencies in large-scale production. While some specialist practices can't avoid prescribing rare medicines because there are no alternatives, some practices may be prescribing a unnecessary amount of brand-name products when generics are available. Let's identify practices whose costs disproportionately originate from rarely prescribed items.\n",
    "\n",
    "First we have to identify which `'bnf_code'` are rare. To do this, find the probability $p$ of a prescription having a particular `'bnf_code'` if the `'bnf_code'` was randomly chosen from the unique options in the beneficiary data. We will call a `'bnf_code'` rare if it is prescribed at a rate less than $0.1p$."
   ]
  },
  {
   "cell_type": "code",
   "execution_count": 78,
   "metadata": {},
   "outputs": [],
   "source": [
    "# we will call a drug rare if it's frequency is less than 0.1p\n",
    "p = 1 / scripts['bnf_code'].nunique()\n",
    "# p"
   ]
  },
  {
   "cell_type": "code",
   "execution_count": 79,
   "metadata": {},
   "outputs": [],
   "source": [
    "rates = scripts['bnf_code'].value_counts() / scripts.shape[0]\n",
    "# rates\n",
    "rare_codes = rates < 0.1 * p\n",
    "# rare_codes"
   ]
  },
  {
   "cell_type": "code",
   "execution_count": 85,
   "metadata": {},
   "outputs": [
    {
     "data": {
      "text/html": [
       "<div>\n",
       "<style scoped>\n",
       "    .dataframe tbody tr th:only-of-type {\n",
       "        vertical-align: middle;\n",
       "    }\n",
       "\n",
       "    .dataframe tbody tr th {\n",
       "        vertical-align: top;\n",
       "    }\n",
       "\n",
       "    .dataframe thead th {\n",
       "        text-align: right;\n",
       "    }\n",
       "</style>\n",
       "<table border=\"1\" class=\"dataframe\">\n",
       "  <thead>\n",
       "    <tr style=\"text-align: right;\">\n",
       "      <th></th>\n",
       "      <th>bnf_code</th>\n",
       "      <th>practice</th>\n",
       "      <th>bnf_name</th>\n",
       "      <th>items</th>\n",
       "      <th>nic</th>\n",
       "      <th>act_cost</th>\n",
       "      <th>quantity</th>\n",
       "      <th>rare</th>\n",
       "    </tr>\n",
       "  </thead>\n",
       "  <tbody>\n",
       "    <tr>\n",
       "      <th>0</th>\n",
       "      <td>0106020C0</td>\n",
       "      <td>N85639</td>\n",
       "      <td>Bisacodyl_Tab E/C 5mg</td>\n",
       "      <td>1</td>\n",
       "      <td>0.39</td>\n",
       "      <td>0.47</td>\n",
       "      <td>12</td>\n",
       "      <td>False</td>\n",
       "    </tr>\n",
       "    <tr>\n",
       "      <th>1</th>\n",
       "      <td>0106040M0</td>\n",
       "      <td>N85639</td>\n",
       "      <td>Movicol Plain_Paed Pdr Sach 6.9g</td>\n",
       "      <td>1</td>\n",
       "      <td>4.38</td>\n",
       "      <td>4.07</td>\n",
       "      <td>30</td>\n",
       "      <td>False</td>\n",
       "    </tr>\n",
       "    <tr>\n",
       "      <th>2</th>\n",
       "      <td>0301011R0</td>\n",
       "      <td>N85639</td>\n",
       "      <td>Salbutamol_Inha 100mcg (200 D) CFF</td>\n",
       "      <td>1</td>\n",
       "      <td>1.50</td>\n",
       "      <td>1.40</td>\n",
       "      <td>1</td>\n",
       "      <td>False</td>\n",
       "    </tr>\n",
       "    <tr>\n",
       "      <th>3</th>\n",
       "      <td>0304010G0</td>\n",
       "      <td>N85639</td>\n",
       "      <td>Chlorphenamine Mal_Oral Soln 2mg/5ml</td>\n",
       "      <td>1</td>\n",
       "      <td>2.62</td>\n",
       "      <td>2.44</td>\n",
       "      <td>150</td>\n",
       "      <td>False</td>\n",
       "    </tr>\n",
       "    <tr>\n",
       "      <th>4</th>\n",
       "      <td>0401020K0</td>\n",
       "      <td>N85639</td>\n",
       "      <td>Diazepam_Tab 2mg</td>\n",
       "      <td>1</td>\n",
       "      <td>0.16</td>\n",
       "      <td>0.26</td>\n",
       "      <td>6</td>\n",
       "      <td>False</td>\n",
       "    </tr>\n",
       "  </tbody>\n",
       "</table>\n",
       "</div>"
      ],
      "text/plain": [
       "    bnf_code practice                              bnf_name  items   nic  \\\n",
       "0  0106020C0   N85639                 Bisacodyl_Tab E/C 5mg      1  0.39   \n",
       "1  0106040M0   N85639      Movicol Plain_Paed Pdr Sach 6.9g      1  4.38   \n",
       "2  0301011R0   N85639    Salbutamol_Inha 100mcg (200 D) CFF      1  1.50   \n",
       "3  0304010G0   N85639  Chlorphenamine Mal_Oral Soln 2mg/5ml      1  2.62   \n",
       "4  0401020K0   N85639                      Diazepam_Tab 2mg      1  0.16   \n",
       "\n",
       "   act_cost  quantity   rare  \n",
       "0      0.47        12  False  \n",
       "1      4.07        30  False  \n",
       "2      1.40         1  False  \n",
       "3      2.44       150  False  \n",
       "4      0.26         6  False  "
      ]
     },
     "execution_count": 85,
     "metadata": {},
     "output_type": "execute_result"
    }
   ],
   "source": [
    "scripts = (scripts\n",
    "           .set_index('bnf_code')\n",
    "           .assign(rare = rare_codes)\n",
    "           .reset_index())\n",
    "scripts.head()"
   ]
  },
  {
   "cell_type": "markdown",
   "metadata": {},
   "source": [
    "Now for each practice, calculate the proportion of costs that originate from prescription of rare treatments (i.e. rare `'bnf_code'`). Use the `'act_cost'` field for this calculation."
   ]
  },
  {
   "cell_type": "code",
   "execution_count": 94,
   "metadata": {},
   "outputs": [],
   "source": [
    "rare_total = (scripts.query('rare==True')\n",
    "              .groupby('practice')['act_cost']\n",
    "              .sum())\n",
    "all_total =  scripts.groupby('practice')['act_cost'].sum()"
   ]
  },
  {
   "cell_type": "code",
   "execution_count": 97,
   "metadata": {},
   "outputs": [],
   "source": [
    "rare_cost_prop = (rare_total / all_total).fillna(0)\n",
    "# rare_cost_prop"
   ]
  },
  {
   "cell_type": "markdown",
   "metadata": {},
   "source": [
    "Now we will calculate a z-score for each practice based on this proportion.\n",
    "First take the difference of `rare_cost_prop` and the proportion of costs originating from rare treatments across all practices."
   ]
  },
  {
   "cell_type": "code",
   "execution_count": 109,
   "metadata": {},
   "outputs": [],
   "source": [
    "relative_rare_cost_prop = rare_cost_prop - (scripts.query('rare == True')['act_cost'].sum()/scripts['act_cost'].sum())"
   ]
  },
  {
   "cell_type": "markdown",
   "metadata": {},
   "source": [
    "Now we will estimate the standard errors (i.e. the denominator of the z-score) by simply taking the standard deviation of this difference."
   ]
  },
  {
   "cell_type": "code",
   "execution_count": 110,
   "metadata": {},
   "outputs": [],
   "source": [
    "standard_errors = relative_rare_cost_prop.std()"
   ]
  },
  {
   "cell_type": "markdown",
   "metadata": {},
   "source": [
    "Finally compute the z-scores. Return the practices with the top 100 z-scores in the form `(post_code, practice_name, z-score)`. Note that some practice codes will correspond with multiple names. In this case, use the first match when sorting names alphabetically."
   ]
  },
  {
   "cell_type": "code",
   "execution_count": 153,
   "metadata": {},
   "outputs": [
    {
     "data": {
      "text/plain": [
       "practice\n",
       "A81005   -0.065216\n",
       "A81007   -0.125308\n",
       "A81011   -0.179263\n",
       "A81012   -0.036615\n",
       "A81017   -0.142190\n",
       "            ...   \n",
       "Y05570   -0.263811\n",
       "Y05583   -0.263811\n",
       "Y05597   -0.263811\n",
       "Y05660   -0.258473\n",
       "Y05670   -0.263811\n",
       "Name: rare_score, Length: 856, dtype: float64"
      ]
     },
     "execution_count": 153,
     "metadata": {},
     "output_type": "execute_result"
    }
   ],
   "source": [
    "rare_scores = (relative_rare_cost_prop / standard_errors).rename('rare_score')\n",
    "rare_scores"
   ]
  },
  {
   "cell_type": "code",
   "execution_count": 124,
   "metadata": {},
   "outputs": [
    {
     "data": {
      "text/html": [
       "<div>\n",
       "<style scoped>\n",
       "    .dataframe tbody tr th:only-of-type {\n",
       "        vertical-align: middle;\n",
       "    }\n",
       "\n",
       "    .dataframe tbody tr th {\n",
       "        vertical-align: top;\n",
       "    }\n",
       "\n",
       "    .dataframe thead th {\n",
       "        text-align: right;\n",
       "    }\n",
       "</style>\n",
       "<table border=\"1\" class=\"dataframe\">\n",
       "  <thead>\n",
       "    <tr style=\"text-align: right;\">\n",
       "      <th></th>\n",
       "      <th>code</th>\n",
       "      <th>name</th>\n",
       "      <th>addr_1</th>\n",
       "      <th>addr_2</th>\n",
       "      <th>borough</th>\n",
       "      <th>village</th>\n",
       "      <th>post_code</th>\n",
       "      <th>z_score</th>\n",
       "      <th>counts</th>\n",
       "    </tr>\n",
       "  </thead>\n",
       "  <tbody>\n",
       "    <tr>\n",
       "      <th>0</th>\n",
       "      <td>P87657</td>\n",
       "      <td>(IRLAM) SALFORD CARE CTRS MEDICAL PRACTI</td>\n",
       "      <td>SALFORD CARE CTR(IRLAM)</td>\n",
       "      <td>125 LIVERPOOL ROAD</td>\n",
       "      <td>IRLAM</td>\n",
       "      <td>MANCHESTER</td>\n",
       "      <td>M44 6DP</td>\n",
       "      <td>NaN</td>\n",
       "      <td>NaN</td>\n",
       "    </tr>\n",
       "    <tr>\n",
       "      <th>1</th>\n",
       "      <td>Y05381</td>\n",
       "      <td>0-19 EAST CHESHIRE HEALTH VISITORS</td>\n",
       "      <td>SALINAE CLINIC</td>\n",
       "      <td>LEWIN STREET</td>\n",
       "      <td>MIDDLEWICH</td>\n",
       "      <td>CHESHIRE</td>\n",
       "      <td>CW10 9FG</td>\n",
       "      <td>NaN</td>\n",
       "      <td>NaN</td>\n",
       "    </tr>\n",
       "    <tr>\n",
       "      <th>2</th>\n",
       "      <td>Y04082</td>\n",
       "      <td>0-19 PUBLIC HEALTH SERVICE HARTLEPOOL</td>\n",
       "      <td>CHATHAM CHILDRENS CENTRE</td>\n",
       "      <td>29 CHATHAM ROAD</td>\n",
       "      <td>HARTLEPOOL</td>\n",
       "      <td>NaN</td>\n",
       "      <td>TS24 8QG</td>\n",
       "      <td>NaN</td>\n",
       "      <td>NaN</td>\n",
       "    </tr>\n",
       "    <tr>\n",
       "      <th>3</th>\n",
       "      <td>Y00364</td>\n",
       "      <td>1 TO 1 CENTRE</td>\n",
       "      <td>BRENKLEY AVENUE</td>\n",
       "      <td>SHIREMOOR</td>\n",
       "      <td>NEWCASTLE UPON TYNE</td>\n",
       "      <td>NaN</td>\n",
       "      <td>NE27 0PR</td>\n",
       "      <td>NaN</td>\n",
       "      <td>NaN</td>\n",
       "    </tr>\n",
       "    <tr>\n",
       "      <th>4</th>\n",
       "      <td>P87652</td>\n",
       "      <td>1/LOWER BROUGHTON MEDICAL PRACTICE</td>\n",
       "      <td>LOWER BROUGHTON HTH.CTR.</td>\n",
       "      <td>GREAT CLOWES STREET</td>\n",
       "      <td>SALFORD</td>\n",
       "      <td>NaN</td>\n",
       "      <td>M7 1RD</td>\n",
       "      <td>2.435637</td>\n",
       "      <td>1044.0</td>\n",
       "    </tr>\n",
       "  </tbody>\n",
       "</table>\n",
       "</div>"
      ],
      "text/plain": [
       "     code                                      name                    addr_1  \\\n",
       "0  P87657  (IRLAM) SALFORD CARE CTRS MEDICAL PRACTI   SALFORD CARE CTR(IRLAM)   \n",
       "1  Y05381        0-19 EAST CHESHIRE HEALTH VISITORS            SALINAE CLINIC   \n",
       "2  Y04082     0-19 PUBLIC HEALTH SERVICE HARTLEPOOL  CHATHAM CHILDRENS CENTRE   \n",
       "3  Y00364                             1 TO 1 CENTRE           BRENKLEY AVENUE   \n",
       "4  P87652        1/LOWER BROUGHTON MEDICAL PRACTICE  LOWER BROUGHTON HTH.CTR.   \n",
       "\n",
       "                addr_2              borough     village post_code   z_score  \\\n",
       "0   125 LIVERPOOL ROAD                IRLAM  MANCHESTER   M44 6DP       NaN   \n",
       "1         LEWIN STREET           MIDDLEWICH    CHESHIRE  CW10 9FG       NaN   \n",
       "2      29 CHATHAM ROAD           HARTLEPOOL         NaN  TS24 8QG       NaN   \n",
       "3            SHIREMOOR  NEWCASTLE UPON TYNE         NaN  NE27 0PR       NaN   \n",
       "4  GREAT CLOWES STREET              SALFORD         NaN    M7 1RD  2.435637   \n",
       "\n",
       "   counts  \n",
       "0     NaN  \n",
       "1     NaN  \n",
       "2     NaN  \n",
       "3     NaN  \n",
       "4  1044.0  "
      ]
     },
     "execution_count": 124,
     "metadata": {},
     "output_type": "execute_result"
    }
   ],
   "source": [
    "unique_practices = unique_practices.reset_index()\n",
    "unique_practices.head()"
   ]
  },
  {
   "cell_type": "code",
   "execution_count": 162,
   "metadata": {},
   "outputs": [],
   "source": [
    "output =  unique_practices.merge(rare_scores, left_on='code', right_index=True)\n",
    "# output = (unique_practices\n",
    "#          .set_index('code')\n",
    "#          .assign(rare_score = rare_scores)\n",
    "#          .reset_index())\n",
    "# output.dropna(inplace=True)"
   ]
  },
  {
   "cell_type": "code",
   "execution_count": 163,
   "metadata": {},
   "outputs": [
    {
     "data": {
      "text/html": [
       "<div>\n",
       "<style scoped>\n",
       "    .dataframe tbody tr th:only-of-type {\n",
       "        vertical-align: middle;\n",
       "    }\n",
       "\n",
       "    .dataframe tbody tr th {\n",
       "        vertical-align: top;\n",
       "    }\n",
       "\n",
       "    .dataframe thead th {\n",
       "        text-align: right;\n",
       "    }\n",
       "</style>\n",
       "<table border=\"1\" class=\"dataframe\">\n",
       "  <thead>\n",
       "    <tr style=\"text-align: right;\">\n",
       "      <th></th>\n",
       "      <th>code</th>\n",
       "      <th>name</th>\n",
       "      <th>addr_1</th>\n",
       "      <th>addr_2</th>\n",
       "      <th>borough</th>\n",
       "      <th>village</th>\n",
       "      <th>post_code</th>\n",
       "      <th>z_score</th>\n",
       "      <th>counts</th>\n",
       "      <th>rare_score</th>\n",
       "    </tr>\n",
       "  </thead>\n",
       "  <tbody>\n",
       "    <tr>\n",
       "      <th>4</th>\n",
       "      <td>P87652</td>\n",
       "      <td>1/LOWER BROUGHTON MEDICAL PRACTICE</td>\n",
       "      <td>LOWER BROUGHTON HTH.CTR.</td>\n",
       "      <td>GREAT CLOWES STREET</td>\n",
       "      <td>SALFORD</td>\n",
       "      <td>NaN</td>\n",
       "      <td>M7 1RD</td>\n",
       "      <td>2.435637</td>\n",
       "      <td>1044.0</td>\n",
       "      <td>-0.156754</td>\n",
       "    </tr>\n",
       "    <tr>\n",
       "      <th>13</th>\n",
       "      <td>P87020</td>\n",
       "      <td>2/ST ANDREWS MEDICAL PRACTICE</td>\n",
       "      <td>ST.ANDREWS MEDICAL CENTRE</td>\n",
       "      <td>30 RUSSELL STREET  ECCLES</td>\n",
       "      <td>MANCHESTER</td>\n",
       "      <td>NaN</td>\n",
       "      <td>M30 0NU</td>\n",
       "      <td>0.272972</td>\n",
       "      <td>1372.0</td>\n",
       "      <td>-0.195493</td>\n",
       "    </tr>\n",
       "    <tr>\n",
       "      <th>17</th>\n",
       "      <td>P87654</td>\n",
       "      <td>3/LOWER BROUGHTON MEDICAL PRACTICE</td>\n",
       "      <td>LOWER BROUGHTON HTH.CTR.</td>\n",
       "      <td>GREAT CLOWES STREET</td>\n",
       "      <td>SALFORD</td>\n",
       "      <td>NaN</td>\n",
       "      <td>M7 1RD</td>\n",
       "      <td>1.212546</td>\n",
       "      <td>1360.0</td>\n",
       "      <td>-0.216661</td>\n",
       "    </tr>\n",
       "    <tr>\n",
       "      <th>19</th>\n",
       "      <td>P87659</td>\n",
       "      <td>3/ST ANDREWS MEDICAL CENTRE</td>\n",
       "      <td>ST.ANDREWS MEDICAL CENTRE</td>\n",
       "      <td>30 RUSSELL STREET  ECCLES</td>\n",
       "      <td>MANCHESTER</td>\n",
       "      <td>NaN</td>\n",
       "      <td>M30 0NU</td>\n",
       "      <td>1.103041</td>\n",
       "      <td>1044.0</td>\n",
       "      <td>0.001856</td>\n",
       "    </tr>\n",
       "    <tr>\n",
       "      <th>23</th>\n",
       "      <td>P87036</td>\n",
       "      <td>4/LOWER BROUGHTON MEDICAL PRACTICE</td>\n",
       "      <td>LOWER BROUGHTON HTH.CTR.</td>\n",
       "      <td>GREAT CLOWES STREET</td>\n",
       "      <td>SALFORD</td>\n",
       "      <td>MANCHESTER</td>\n",
       "      <td>M7 1RD</td>\n",
       "      <td>-0.000505</td>\n",
       "      <td>838.0</td>\n",
       "      <td>-0.087263</td>\n",
       "    </tr>\n",
       "  </tbody>\n",
       "</table>\n",
       "</div>"
      ],
      "text/plain": [
       "      code                                name                     addr_1  \\\n",
       "4   P87652  1/LOWER BROUGHTON MEDICAL PRACTICE   LOWER BROUGHTON HTH.CTR.   \n",
       "13  P87020       2/ST ANDREWS MEDICAL PRACTICE  ST.ANDREWS MEDICAL CENTRE   \n",
       "17  P87654  3/LOWER BROUGHTON MEDICAL PRACTICE   LOWER BROUGHTON HTH.CTR.   \n",
       "19  P87659         3/ST ANDREWS MEDICAL CENTRE  ST.ANDREWS MEDICAL CENTRE   \n",
       "23  P87036  4/LOWER BROUGHTON MEDICAL PRACTICE   LOWER BROUGHTON HTH.CTR.   \n",
       "\n",
       "                       addr_2     borough     village post_code   z_score  \\\n",
       "4         GREAT CLOWES STREET     SALFORD         NaN    M7 1RD  2.435637   \n",
       "13  30 RUSSELL STREET  ECCLES  MANCHESTER         NaN   M30 0NU  0.272972   \n",
       "17        GREAT CLOWES STREET     SALFORD         NaN    M7 1RD  1.212546   \n",
       "19  30 RUSSELL STREET  ECCLES  MANCHESTER         NaN   M30 0NU  1.103041   \n",
       "23        GREAT CLOWES STREET     SALFORD  MANCHESTER    M7 1RD -0.000505   \n",
       "\n",
       "    counts  rare_score  \n",
       "4   1044.0   -0.156754  \n",
       "13  1372.0   -0.195493  \n",
       "17  1360.0   -0.216661  \n",
       "19  1044.0    0.001856  \n",
       "23   838.0   -0.087263  "
      ]
     },
     "execution_count": 163,
     "metadata": {},
     "output_type": "execute_result"
    }
   ],
   "source": [
    "output.head()"
   ]
  },
  {
   "cell_type": "code",
   "execution_count": 167,
   "metadata": {},
   "outputs": [
    {
     "data": {
      "text/html": [
       "<div>\n",
       "<style scoped>\n",
       "    .dataframe tbody tr th:only-of-type {\n",
       "        vertical-align: middle;\n",
       "    }\n",
       "\n",
       "    .dataframe tbody tr th {\n",
       "        vertical-align: top;\n",
       "    }\n",
       "\n",
       "    .dataframe thead th {\n",
       "        text-align: right;\n",
       "    }\n",
       "</style>\n",
       "<table border=\"1\" class=\"dataframe\">\n",
       "  <thead>\n",
       "    <tr style=\"text-align: right;\">\n",
       "      <th></th>\n",
       "      <th>code</th>\n",
       "      <th>name</th>\n",
       "      <th>rare_score</th>\n",
       "    </tr>\n",
       "  </thead>\n",
       "  <tbody>\n",
       "    <tr>\n",
       "      <th>2192</th>\n",
       "      <td>Y03472</td>\n",
       "      <td>CONSULTANT DIABETES TEAM</td>\n",
       "      <td>16.262687</td>\n",
       "    </tr>\n",
       "    <tr>\n",
       "      <th>2661</th>\n",
       "      <td>Y05320</td>\n",
       "      <td>DMC COMMUNITY DERMATOLOGY RBWF</td>\n",
       "      <td>15.128648</td>\n",
       "    </tr>\n",
       "    <tr>\n",
       "      <th>6789</th>\n",
       "      <td>Y04404</td>\n",
       "      <td>OUTPATIENTS JUBILEE HEALTH CENTRE</td>\n",
       "      <td>7.542139</td>\n",
       "    </tr>\n",
       "    <tr>\n",
       "      <th>2659</th>\n",
       "      <td>Y03484</td>\n",
       "      <td>DMC COMMUNITY DERMATOLOGY CLINIC</td>\n",
       "      <td>7.287222</td>\n",
       "    </tr>\n",
       "    <tr>\n",
       "      <th>2668</th>\n",
       "      <td>Y04424</td>\n",
       "      <td>DMC HEALTHCARE</td>\n",
       "      <td>6.838614</td>\n",
       "    </tr>\n",
       "    <tr>\n",
       "      <th>850</th>\n",
       "      <td>Y00631</td>\n",
       "      <td>BINGLEY DERMATOLOGY CLINIC</td>\n",
       "      <td>5.755998</td>\n",
       "    </tr>\n",
       "    <tr>\n",
       "      <th>581</th>\n",
       "      <td>A89038</td>\n",
       "      <td>BARMSTON MEDICAL CENTRE</td>\n",
       "      <td>5.664940</td>\n",
       "    </tr>\n",
       "    <tr>\n",
       "      <th>631</th>\n",
       "      <td>Y01696</td>\n",
       "      <td>BASSETLAW HOSPICE OF THE GOOD SHEPHERD</td>\n",
       "      <td>4.290685</td>\n",
       "    </tr>\n",
       "    <tr>\n",
       "      <th>6701</th>\n",
       "      <td>Y03699</td>\n",
       "      <td>OLDHAM DERMATOLOGY SERVICE</td>\n",
       "      <td>4.103744</td>\n",
       "    </tr>\n",
       "    <tr>\n",
       "      <th>10067</th>\n",
       "      <td>Y02045</td>\n",
       "      <td>VERNOVA HEALTHCARE CIC</td>\n",
       "      <td>3.180715</td>\n",
       "    </tr>\n",
       "    <tr>\n",
       "      <th>2674</th>\n",
       "      <td>Y02823</td>\n",
       "      <td>DMC VICARAGE LANE</td>\n",
       "      <td>3.054122</td>\n",
       "    </tr>\n",
       "    <tr>\n",
       "      <th>1991</th>\n",
       "      <td>Y00997</td>\n",
       "      <td>COMMUNITY DERMATOLOGY SERVICE</td>\n",
       "      <td>3.018128</td>\n",
       "    </tr>\n",
       "    <tr>\n",
       "      <th>6705</th>\n",
       "      <td>Y05019</td>\n",
       "      <td>OLDHAM TOTAL SKIN SERVICE</td>\n",
       "      <td>2.724752</td>\n",
       "    </tr>\n",
       "    <tr>\n",
       "      <th>1281</th>\n",
       "      <td>Y01003</td>\n",
       "      <td>BURY OOH</td>\n",
       "      <td>2.350436</td>\n",
       "    </tr>\n",
       "    <tr>\n",
       "      <th>6541</th>\n",
       "      <td>Y05431</td>\n",
       "      <td>NOTTS APPLIANCE MANAGEMENT SERVICE</td>\n",
       "      <td>2.037159</td>\n",
       "    </tr>\n",
       "    <tr>\n",
       "      <th>4972</th>\n",
       "      <td>Y03557</td>\n",
       "      <td>IPU 10-17 RECOVERY COVENTRY</td>\n",
       "      <td>2.030450</td>\n",
       "    </tr>\n",
       "    <tr>\n",
       "      <th>10266</th>\n",
       "      <td>Y05419</td>\n",
       "      <td>WEEKEND WORKING EASINGTON NORTH</td>\n",
       "      <td>2.002960</td>\n",
       "    </tr>\n",
       "    <tr>\n",
       "      <th>6545</th>\n",
       "      <td>Y05434</td>\n",
       "      <td>NOTTS APPLIANCE MANAGEMENT SERVICE</td>\n",
       "      <td>1.617816</td>\n",
       "    </tr>\n",
       "    <tr>\n",
       "      <th>5577</th>\n",
       "      <td>L84042</td>\n",
       "      <td>LONDON MEDICAL PRACTICE</td>\n",
       "      <td>1.604012</td>\n",
       "    </tr>\n",
       "    <tr>\n",
       "      <th>5363</th>\n",
       "      <td>Y04871</td>\n",
       "      <td>LEARNING ASSESSMENT &amp; NEUROCARE BURY</td>\n",
       "      <td>1.440819</td>\n",
       "    </tr>\n",
       "    <tr>\n",
       "      <th>6546</th>\n",
       "      <td>Y05432</td>\n",
       "      <td>NOTTS APPLIANCE MANAGEMENT SERVICE</td>\n",
       "      <td>1.305202</td>\n",
       "    </tr>\n",
       "    <tr>\n",
       "      <th>9731</th>\n",
       "      <td>F86057</td>\n",
       "      <td>THE WILLOWS PRACTICE</td>\n",
       "      <td>1.280956</td>\n",
       "    </tr>\n",
       "    <tr>\n",
       "      <th>657</th>\n",
       "      <td>L81673</td>\n",
       "      <td>BCH DERMATOLOGY SERVICE</td>\n",
       "      <td>1.277947</td>\n",
       "    </tr>\n",
       "    <tr>\n",
       "      <th>10113</th>\n",
       "      <td>Y04089</td>\n",
       "      <td>VIRGIN CARE (MIDDLESBROUGH)</td>\n",
       "      <td>1.205586</td>\n",
       "    </tr>\n",
       "    <tr>\n",
       "      <th>630</th>\n",
       "      <td>Y03762</td>\n",
       "      <td>BASSETLAW HEALTH PARTNERSHIP</td>\n",
       "      <td>1.154769</td>\n",
       "    </tr>\n",
       "    <tr>\n",
       "      <th>6542</th>\n",
       "      <td>Y05430</td>\n",
       "      <td>NOTTS APPLIANCE MANAGEMENT SERVICE</td>\n",
       "      <td>1.122760</td>\n",
       "    </tr>\n",
       "    <tr>\n",
       "      <th>7818</th>\n",
       "      <td>B85030</td>\n",
       "      <td>SCRIVINGS CLECKHEATON HLTH CTR</td>\n",
       "      <td>1.103502</td>\n",
       "    </tr>\n",
       "    <tr>\n",
       "      <th>10502</th>\n",
       "      <td>P81736</td>\n",
       "      <td>WHITEFIELD HEALTHCARE</td>\n",
       "      <td>1.093958</td>\n",
       "    </tr>\n",
       "    <tr>\n",
       "      <th>3963</th>\n",
       "      <td>Y00570</td>\n",
       "      <td>GP LED DERMATOLOGY SERVICE</td>\n",
       "      <td>1.051562</td>\n",
       "    </tr>\n",
       "    <tr>\n",
       "      <th>5274</th>\n",
       "      <td>Y04606</td>\n",
       "      <td>LANCASTER HOUSE CONTINENCE</td>\n",
       "      <td>1.032852</td>\n",
       "    </tr>\n",
       "    <tr>\n",
       "      <th>...</th>\n",
       "      <td>...</td>\n",
       "      <td>...</td>\n",
       "      <td>...</td>\n",
       "    </tr>\n",
       "    <tr>\n",
       "      <th>4224</th>\n",
       "      <td>Y04831</td>\n",
       "      <td>H&amp;F CCGS WEEKEND PLUS SERVICE</td>\n",
       "      <td>-0.263811</td>\n",
       "    </tr>\n",
       "    <tr>\n",
       "      <th>4225</th>\n",
       "      <td>G81703</td>\n",
       "      <td>H&amp;R P C SPECIAL SCHEME</td>\n",
       "      <td>-0.263811</td>\n",
       "    </tr>\n",
       "    <tr>\n",
       "      <th>4373</th>\n",
       "      <td>Y00599</td>\n",
       "      <td>HASTINGS AND ROTHER OOH</td>\n",
       "      <td>-0.263811</td>\n",
       "    </tr>\n",
       "    <tr>\n",
       "      <th>5547</th>\n",
       "      <td>Y05131</td>\n",
       "      <td>LOCAL PRIMARY CARE EAST/WEST SPOKE</td>\n",
       "      <td>-0.263811</td>\n",
       "    </tr>\n",
       "    <tr>\n",
       "      <th>2673</th>\n",
       "      <td>Y03640</td>\n",
       "      <td>DMC SHEPPEY-W.I. CLINIC</td>\n",
       "      <td>-0.263811</td>\n",
       "    </tr>\n",
       "    <tr>\n",
       "      <th>1662</th>\n",
       "      <td>Y00992</td>\n",
       "      <td>CHILD AND FAMILY SERVICES</td>\n",
       "      <td>-0.263811</td>\n",
       "    </tr>\n",
       "    <tr>\n",
       "      <th>2023</th>\n",
       "      <td>Y02851</td>\n",
       "      <td>COMMUNITY EYE CLINIC</td>\n",
       "      <td>-0.263811</td>\n",
       "    </tr>\n",
       "    <tr>\n",
       "      <th>6218</th>\n",
       "      <td>Y01852</td>\n",
       "      <td>NATIONAL ENHANCED SERVICE</td>\n",
       "      <td>-0.263811</td>\n",
       "    </tr>\n",
       "    <tr>\n",
       "      <th>10013</th>\n",
       "      <td>Y05269</td>\n",
       "      <td>URGENT CARE CENTRE</td>\n",
       "      <td>-0.263811</td>\n",
       "    </tr>\n",
       "    <tr>\n",
       "      <th>10010</th>\n",
       "      <td>Y03408</td>\n",
       "      <td>URGENT CARE CENTRE</td>\n",
       "      <td>-0.263811</td>\n",
       "    </tr>\n",
       "    <tr>\n",
       "      <th>6064</th>\n",
       "      <td>Y02532</td>\n",
       "      <td>MIRIAM MINOR EMERGENCY</td>\n",
       "      <td>-0.263811</td>\n",
       "    </tr>\n",
       "    <tr>\n",
       "      <th>4360</th>\n",
       "      <td>Y02496</td>\n",
       "      <td>HARTLEPOOL NHS HEALTHCARE CENTRE</td>\n",
       "      <td>-0.263811</td>\n",
       "    </tr>\n",
       "    <tr>\n",
       "      <th>1984</th>\n",
       "      <td>Y01894</td>\n",
       "      <td>COMMUNITY DERMATOLOGY CLINIC</td>\n",
       "      <td>-0.263811</td>\n",
       "    </tr>\n",
       "    <tr>\n",
       "      <th>8690</th>\n",
       "      <td>Y05670</td>\n",
       "      <td>SUNDERLAND NORTH EXTENDED ACCESS</td>\n",
       "      <td>-0.263811</td>\n",
       "    </tr>\n",
       "    <tr>\n",
       "      <th>2003</th>\n",
       "      <td>Y03780</td>\n",
       "      <td>COMMUNITY DIABETES SERVICE</td>\n",
       "      <td>-0.263811</td>\n",
       "    </tr>\n",
       "    <tr>\n",
       "      <th>2012</th>\n",
       "      <td>Y00828</td>\n",
       "      <td>COMMUNITY ENT CLINIC</td>\n",
       "      <td>-0.263811</td>\n",
       "    </tr>\n",
       "    <tr>\n",
       "      <th>2016</th>\n",
       "      <td>Y01130</td>\n",
       "      <td>COMMUNITY ENT SERVICE</td>\n",
       "      <td>-0.263811</td>\n",
       "    </tr>\n",
       "    <tr>\n",
       "      <th>2057</th>\n",
       "      <td>Y03839</td>\n",
       "      <td>COMMUNITY MAS BICS</td>\n",
       "      <td>-0.263811</td>\n",
       "    </tr>\n",
       "    <tr>\n",
       "      <th>2620</th>\n",
       "      <td>Y00043</td>\n",
       "      <td>DIABETES CLINIC(NORTH)</td>\n",
       "      <td>-0.263811</td>\n",
       "    </tr>\n",
       "    <tr>\n",
       "      <th>2089</th>\n",
       "      <td>Y02318</td>\n",
       "      <td>COMMUNITY OPHTHALMOLOGY SERV</td>\n",
       "      <td>-0.263811</td>\n",
       "    </tr>\n",
       "    <tr>\n",
       "      <th>2093</th>\n",
       "      <td>Y03514</td>\n",
       "      <td>COMMUNITY OPHTHALMOLOGY SERVICE</td>\n",
       "      <td>-0.263811</td>\n",
       "    </tr>\n",
       "    <tr>\n",
       "      <th>2155</th>\n",
       "      <td>Y03860</td>\n",
       "      <td>COMMUNITY TEAM TRURO</td>\n",
       "      <td>-0.263811</td>\n",
       "    </tr>\n",
       "    <tr>\n",
       "      <th>2163</th>\n",
       "      <td>Y02947</td>\n",
       "      <td>COMPASS ENFIELD</td>\n",
       "      <td>-0.263811</td>\n",
       "    </tr>\n",
       "    <tr>\n",
       "      <th>2439</th>\n",
       "      <td>Y05583</td>\n",
       "      <td>CYPS - ACORN HOUSE</td>\n",
       "      <td>-0.263811</td>\n",
       "    </tr>\n",
       "    <tr>\n",
       "      <th>5698</th>\n",
       "      <td>Y04147</td>\n",
       "      <td>M/SKELETAL CENTRE (SUTTON)</td>\n",
       "      <td>-0.263811</td>\n",
       "    </tr>\n",
       "    <tr>\n",
       "      <th>2560</th>\n",
       "      <td>P81793</td>\n",
       "      <td>DERMATOLOGY CLINIC</td>\n",
       "      <td>-0.263811</td>\n",
       "    </tr>\n",
       "    <tr>\n",
       "      <th>2575</th>\n",
       "      <td>Y04495</td>\n",
       "      <td>DERMATOLOGY GPSI (SUTTON)</td>\n",
       "      <td>-0.263811</td>\n",
       "    </tr>\n",
       "    <tr>\n",
       "      <th>2608</th>\n",
       "      <td>Y01943</td>\n",
       "      <td>DEWSBURY MSK SERVICE</td>\n",
       "      <td>-0.263811</td>\n",
       "    </tr>\n",
       "    <tr>\n",
       "      <th>2611</th>\n",
       "      <td>Y04426</td>\n",
       "      <td>DGS OOH (INTEGRATED CARE 24 LTD)</td>\n",
       "      <td>-0.263811</td>\n",
       "    </tr>\n",
       "    <tr>\n",
       "      <th>5347</th>\n",
       "      <td>Y04922</td>\n",
       "      <td>LCW HAM+FUL CCG OOH</td>\n",
       "      <td>-0.263811</td>\n",
       "    </tr>\n",
       "  </tbody>\n",
       "</table>\n",
       "<p>856 rows × 3 columns</p>\n",
       "</div>"
      ],
      "text/plain": [
       "        code                               name  rare_score\n",
       "2192  Y03472           CONSULTANT DIABETES TEAM   16.262687\n",
       "2661  Y05320     DMC COMMUNITY DERMATOLOGY RBWF   15.128648\n",
       "6789  Y04404  OUTPATIENTS JUBILEE HEALTH CENTRE    7.542139\n",
       "2659  Y03484   DMC COMMUNITY DERMATOLOGY CLINIC    7.287222\n",
       "2668  Y04424                     DMC HEALTHCARE    6.838614\n",
       "...      ...                                ...         ...\n",
       "2560  P81793                 DERMATOLOGY CLINIC   -0.263811\n",
       "2575  Y04495          DERMATOLOGY GPSI (SUTTON)   -0.263811\n",
       "2608  Y01943               DEWSBURY MSK SERVICE   -0.263811\n",
       "2611  Y04426   DGS OOH (INTEGRATED CARE 24 LTD)   -0.263811\n",
       "5347  Y04922                LCW HAM+FUL CCG OOH   -0.263811\n",
       "\n",
       "[856 rows x 3 columns]"
      ]
     },
     "execution_count": 167,
     "metadata": {},
     "output_type": "execute_result"
    }
   ],
   "source": [
    "final_result = (output[['code', 'name', 'rare_score']]\n",
    "                .sort_values('rare_score',ascending=False))\n",
    "final_result"
   ]
  },
  {
   "cell_type": "code",
   "execution_count": 165,
   "metadata": {},
   "outputs": [],
   "source": [
    "rare_scripts=final_result[:100]"
   ]
  },
  {
   "cell_type": "code",
   "execution_count": 107,
   "metadata": {},
   "outputs": [],
   "source": [
    "# rare_scripts = [(\"Y03472\", \"CONSULTANT DIABETES TEAM\", 16.2626871247)] * 100"
   ]
  },
  {
   "cell_type": "code",
   "execution_count": 166,
   "metadata": {},
   "outputs": [
    {
     "name": "stdout",
     "output_type": "stream",
     "text": [
      "==================\n",
      "Your score:  1.0\n",
      "==================\n"
     ]
    }
   ],
   "source": [
    "grader.score.dw__rare_scripts(rare_scripts)"
   ]
  },
  {
   "cell_type": "markdown",
   "metadata": {},
   "source": [
    "*Copyright &copy; 2020 The Data Incubator.  All rights reserved.*"
   ]
  }
 ],
 "metadata": {
  "kernelspec": {
   "display_name": "Python 3",
   "language": "python",
   "name": "python3"
  },
  "language_info": {
   "codemirror_mode": {
    "name": "ipython",
    "version": 3
   },
   "file_extension": ".py",
   "mimetype": "text/x-python",
   "name": "python",
   "nbconvert_exporter": "python",
   "pygments_lexer": "ipython3",
   "version": "3.7.6"
  },
  "nbclean": true
 },
 "nbformat": 4,
 "nbformat_minor": 1
}
